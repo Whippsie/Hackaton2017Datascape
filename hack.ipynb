{
 "cells": [
  {
   "cell_type": "code",
   "execution_count": null,
   "metadata": {
    "collapsed": true
   },
   "outputs": [],
   "source": [
    "import pandas as pd\n",
    "import numpy as np\n",
    "import seaborn as sns\n",
    "import matplotlib.pyplot as plt"
   ]
  },
  {
   "cell_type": "code",
   "execution_count": null,
   "metadata": {
    "collapsed": true
   },
   "outputs": [],
   "source": [
    "df = pd.DataFrame()\n",
    "\n",
    "# Changer le path vers le csv sur votre machine.\n",
    "#'/Users/jeremycoulombe/Desktop/datascapes-2017/VehiclesInCirculation/vehicules-circulation-2016.csv'\n",
    "df = pd.read_csv('/Users/jeremycoulombe/Desktop/datascapes-2017/VehiclesInCirculation/vehicules-circulation-2016.csv')"
   ]
  },
  {
   "cell_type": "code",
   "execution_count": null,
   "metadata": {},
   "outputs": [],
   "source": [
    "df.head(10)"
   ]
  },
  {
   "cell_type": "code",
   "execution_count": null,
   "metadata": {},
   "outputs": [],
   "source": [
    "df.tail(5)"
   ]
  },
  {
   "cell_type": "code",
   "execution_count": null,
   "metadata": {
    "collapsed": true
   },
   "outputs": [],
   "source": [
    "df.drop(['AN', 'NOSEQ_VEH', 'MRC'], 1, inplace=True)"
   ]
  },
  {
   "cell_type": "code",
   "execution_count": null,
   "metadata": {},
   "outputs": [],
   "source": [
    "df.head(6)"
   ]
  },
  {
   "cell_type": "code",
   "execution_count": null,
   "metadata": {
    "collapsed": true
   },
   "outputs": [],
   "source": []
  },
  {
   "cell_type": "code",
   "execution_count": null,
   "metadata": {},
   "outputs": [],
   "source": [
    "df.sort_values(['REG_ADM'], ascending=[True], inplace=True)\n",
    "values= {'NB_CYL': 0,'NB_ESIEU_MAX':0,'CYL_VEH':0,'CYL_VEH':0,'PHYS_SEX':'X', 'PHYS_AGE': 0 }\n",
    "df = df.fillna(values)\n",
    "montreal =df.loc[df['REG_ADM'] == 'Montréal (06)']\n",
    "#montreal montreal.fillna(values)\n",
    "region = df.groupby('REG_ADM') \n",
    "print('cylindre')\n",
    "print(region['NB_CYL'].mean())\n",
    "print('annee modele')\n",
    "#print(montreal['ANNEE_MOD'].mean())\n",
    "print(df['ANNEE_MOD'].mean())\n",
    "print(region['ANNEE_MOD'].mean())\n",
    "print('age')\n",
    "print(region['PHYS_AGE'].mean())\n",
    "#region.apply([region['PHYS_SEX'] =='F'].count())\n",
    "#region.loc['PHYS_SEX'== 'F'].count()\n"
   ]
  },
  {
   "cell_type": "code",
   "execution_count": 28,
   "metadata": {
    "scrolled": true
   },
   "outputs": [
    {
     "name": "stdout",
     "output_type": "stream",
     "text": [
      "Number of women per age Montérégie (16)                       413733\n",
      "Montréal (06)                         296874\n",
      "Capitale-Nationale (03)               186608\n",
      "Laurentides (15)                      175741\n",
      "Lanaudière (14)                       144753\n",
      "Chaudière-Appalaches (12)             124611\n",
      "Outaouais (07)                        104018\n",
      "Laval (13)                             98494\n",
      "Estrie (05)                            89365\n",
      "Saguenay–Lac-Saint-Jean (02)           81382\n",
      "Mauricie (04)                          78704\n",
      "Centre-du-Québec (17)                  72369\n",
      "Bas-Saint-Laurent (01)                 57449\n",
      "Abitibi-Témiscamingue (08)             45267\n",
      "Gaspésie–Îles-de-la-Madeleine (11)     28777\n",
      "Côte-Nord (09)                         26152\n",
      "Nord-du-Québec (10)                     6521\n",
      "Name: REG_ADM, dtype: int64\n",
      "femme\n",
      "Abitibi-Témiscamingue (08)            0.256658\n",
      "Bas-Saint-Laurent (01)                0.274761\n",
      "Capitale-Nationale (03)               0.319095\n",
      "Centre-du-Québec (17)                 0.299493\n",
      "Chaudière-Appalaches (12)             0.290817\n",
      "Côte-Nord (09)                        0.265392\n",
      "Estrie (05)                           0.322016\n",
      "Gaspésie–Îles-de-la-Madeleine (11)    0.282474\n",
      "Lanaudière (14)                       0.334167\n",
      "Laurentides (15)                      0.343600\n",
      "Laval (13)                            0.341046\n",
      "Mauricie (04)                         0.325720\n",
      "Montréal (06)                         0.311670\n",
      "Montérégie (16)                       0.336858\n",
      "Nord-du-Québec (10)                   0.249283\n",
      "Outaouais (07)                        0.344949\n",
      "Saguenay–Lac-Saint-Jean (02)          0.281518\n",
      "dtype: float64\n",
      "homme\n",
      "Abitibi-Témiscamingue (08)            0.606307\n",
      "Bas-Saint-Laurent (01)                0.578907\n",
      "Capitale-Nationale (03)               0.520726\n",
      "Centre-du-Québec (17)                 0.540685\n",
      "Chaudière-Appalaches (12)             0.559449\n",
      "Côte-Nord (09)                        0.624867\n",
      "Estrie (05)                           0.550658\n",
      "Gaspésie–Îles-de-la-Madeleine (11)    0.618768\n",
      "Lanaudière (14)                       0.547087\n",
      "Laurentides (15)                      0.537583\n",
      "Laval (13)                            0.517348\n",
      "Mauricie (04)                         0.566355\n",
      "Montréal (06)                         0.513940\n",
      "Montérégie (16)                       0.526760\n",
      "Nord-du-Québec (10)                   0.562751\n",
      "Outaouais (07)                        0.555756\n",
      "Saguenay–Lac-Saint-Jean (02)          0.604411\n",
      "dtype: float64\n",
      "149973     Abitibi-Témiscamingue (08)\n",
      "5819649    Abitibi-Témiscamingue (08)\n",
      "5100717    Abitibi-Témiscamingue (08)\n",
      "5819653    Abitibi-Témiscamingue (08)\n",
      "2727800    Abitibi-Témiscamingue (08)\n",
      "1454535    Abitibi-Témiscamingue (08)\n",
      "3752876    Abitibi-Témiscamingue (08)\n",
      "5100692    Abitibi-Témiscamingue (08)\n",
      "5100689    Abitibi-Témiscamingue (08)\n",
      "1454509    Abitibi-Témiscamingue (08)\n",
      "3752901    Abitibi-Témiscamingue (08)\n",
      "6198379    Abitibi-Témiscamingue (08)\n",
      "2996594    Abitibi-Témiscamingue (08)\n",
      "2519217    Abitibi-Témiscamingue (08)\n",
      "476949     Abitibi-Témiscamingue (08)\n",
      "476945     Abitibi-Témiscamingue (08)\n",
      "6198372    Abitibi-Témiscamingue (08)\n",
      "4101446    Abitibi-Témiscamingue (08)\n",
      "5100622    Abitibi-Témiscamingue (08)\n",
      "3752914    Abitibi-Témiscamingue (08)\n",
      "4101424    Abitibi-Témiscamingue (08)\n",
      "2727781    Abitibi-Témiscamingue (08)\n",
      "476938     Abitibi-Témiscamingue (08)\n",
      "1847445    Abitibi-Témiscamingue (08)\n",
      "1050193    Abitibi-Témiscamingue (08)\n",
      "5100610    Abitibi-Témiscamingue (08)\n",
      "4592633    Abitibi-Témiscamingue (08)\n",
      "4101488    Abitibi-Témiscamingue (08)\n",
      "2519133    Abitibi-Témiscamingue (08)\n",
      "5819602    Abitibi-Témiscamingue (08)\n",
      "                      ...            \n",
      "6409082                           NaN\n",
      "6409543                           NaN\n",
      "6409658                           NaN\n",
      "6409814                           NaN\n",
      "6410072                           NaN\n",
      "6410194                           NaN\n",
      "6410338                           NaN\n",
      "6411005                           NaN\n",
      "6411145                           NaN\n",
      "6412458                           NaN\n",
      "6412495                           NaN\n",
      "6412640                           NaN\n",
      "6412715                           NaN\n",
      "6412748                           NaN\n",
      "6412849                           NaN\n",
      "6413323                           NaN\n",
      "6413429                           NaN\n",
      "6413550                           NaN\n",
      "6413642                           NaN\n",
      "6413809                           NaN\n",
      "6413981                           NaN\n",
      "6414249                           NaN\n",
      "6414469                           NaN\n",
      "6414519                           NaN\n",
      "6415326                           NaN\n",
      "6415369                           NaN\n",
      "6415586                           NaN\n",
      "6415798                           NaN\n",
      "6416280                           NaN\n",
      "6416335                           NaN\n",
      "Name: REG_ADM, Length: 6416349, dtype: object\n"
     ]
    },
    {
     "ename": "ValueError",
     "evalue": "Shape of passed values is (1, 17), indices imply (2, 17)",
     "output_type": "error",
     "traceback": [
      "\u001b[0;31m---------------------------------------------------------------------------\u001b[0m",
      "\u001b[0;31mValueError\u001b[0m                                Traceback (most recent call last)",
      "\u001b[0;32m~/anaconda3/lib/python3.6/site-packages/pandas/core/internals.py\u001b[0m in \u001b[0;36mcreate_block_manager_from_blocks\u001b[0;34m(blocks, axes)\u001b[0m\n\u001b[1;32m   4616\u001b[0m                 blocks = [make_block(values=blocks[0],\n\u001b[0;32m-> 4617\u001b[0;31m                                      placement=slice(0, len(axes[0])))]\n\u001b[0m\u001b[1;32m   4618\u001b[0m \u001b[0;34m\u001b[0m\u001b[0m\n",
      "\u001b[0;32m~/anaconda3/lib/python3.6/site-packages/pandas/core/internals.py\u001b[0m in \u001b[0;36mmake_block\u001b[0;34m(values, placement, klass, ndim, dtype, fastpath)\u001b[0m\n\u001b[1;32m   2951\u001b[0m \u001b[0;34m\u001b[0m\u001b[0m\n\u001b[0;32m-> 2952\u001b[0;31m     \u001b[0;32mreturn\u001b[0m \u001b[0mklass\u001b[0m\u001b[0;34m(\u001b[0m\u001b[0mvalues\u001b[0m\u001b[0;34m,\u001b[0m \u001b[0mndim\u001b[0m\u001b[0;34m=\u001b[0m\u001b[0mndim\u001b[0m\u001b[0;34m,\u001b[0m \u001b[0mfastpath\u001b[0m\u001b[0;34m=\u001b[0m\u001b[0mfastpath\u001b[0m\u001b[0;34m,\u001b[0m \u001b[0mplacement\u001b[0m\u001b[0;34m=\u001b[0m\u001b[0mplacement\u001b[0m\u001b[0;34m)\u001b[0m\u001b[0;34m\u001b[0m\u001b[0m\n\u001b[0m\u001b[1;32m   2953\u001b[0m \u001b[0;34m\u001b[0m\u001b[0m\n",
      "\u001b[0;32m~/anaconda3/lib/python3.6/site-packages/pandas/core/internals.py\u001b[0m in \u001b[0;36m__init__\u001b[0;34m(self, values, placement, ndim, fastpath)\u001b[0m\n\u001b[1;32m    119\u001b[0m                              'implies %d' % (len(self.values),\n\u001b[0;32m--> 120\u001b[0;31m                                              len(self.mgr_locs)))\n\u001b[0m\u001b[1;32m    121\u001b[0m \u001b[0;34m\u001b[0m\u001b[0m\n",
      "\u001b[0;31mValueError\u001b[0m: Wrong number of items passed 1, placement implies 2",
      "\nDuring handling of the above exception, another exception occurred:\n",
      "\u001b[0;31mValueError\u001b[0m                                Traceback (most recent call last)",
      "\u001b[0;32m<ipython-input-28-fb01110dabf7>\u001b[0m in \u001b[0;36m<module>\u001b[0;34m()\u001b[0m\n\u001b[1;32m     15\u001b[0m \u001b[0mprint\u001b[0m\u001b[0;34m(\u001b[0m\u001b[0mdf\u001b[0m\u001b[0;34m[\u001b[0m\u001b[0;34m'REG_ADM'\u001b[0m\u001b[0;34m]\u001b[0m\u001b[0;34m)\u001b[0m\u001b[0;34m\u001b[0m\u001b[0m\n\u001b[1;32m     16\u001b[0m \u001b[0;34m\u001b[0m\u001b[0m\n\u001b[0;32m---> 17\u001b[0;31m \u001b[0mdfTest2\u001b[0m \u001b[0;34m=\u001b[0m \u001b[0mpd\u001b[0m\u001b[0;34m.\u001b[0m\u001b[0mDataFrame\u001b[0m\u001b[0;34m(\u001b[0m\u001b[0mprophomme\u001b[0m\u001b[0;34m,\u001b[0m \u001b[0mcolumns\u001b[0m \u001b[0;34m=\u001b[0m \u001b[0;34m[\u001b[0m\u001b[0;34m'Count'\u001b[0m\u001b[0;34m,\u001b[0m\u001b[0;34m'region'\u001b[0m\u001b[0;34m]\u001b[0m \u001b[0;34m)\u001b[0m\u001b[0;34m\u001b[0m\u001b[0m\n\u001b[0m\u001b[1;32m     18\u001b[0m \u001b[0mdfTest2\u001b[0m\u001b[0;34m\u001b[0m\u001b[0m\n",
      "\u001b[0;32m~/anaconda3/lib/python3.6/site-packages/pandas/core/frame.py\u001b[0m in \u001b[0;36m__init__\u001b[0;34m(self, data, index, columns, dtype, copy)\u001b[0m\n\u001b[1;32m    359\u001b[0m             \u001b[0;32melse\u001b[0m\u001b[0;34m:\u001b[0m\u001b[0;34m\u001b[0m\u001b[0m\n\u001b[1;32m    360\u001b[0m                 mgr = self._init_ndarray(data, index, columns, dtype=dtype,\n\u001b[0;32m--> 361\u001b[0;31m                                          copy=copy)\n\u001b[0m\u001b[1;32m    362\u001b[0m         \u001b[0;32melif\u001b[0m \u001b[0misinstance\u001b[0m\u001b[0;34m(\u001b[0m\u001b[0mdata\u001b[0m\u001b[0;34m,\u001b[0m \u001b[0;34m(\u001b[0m\u001b[0mlist\u001b[0m\u001b[0;34m,\u001b[0m \u001b[0mtypes\u001b[0m\u001b[0;34m.\u001b[0m\u001b[0mGeneratorType\u001b[0m\u001b[0;34m)\u001b[0m\u001b[0;34m)\u001b[0m\u001b[0;34m:\u001b[0m\u001b[0;34m\u001b[0m\u001b[0m\n\u001b[1;32m    363\u001b[0m             \u001b[0;32mif\u001b[0m \u001b[0misinstance\u001b[0m\u001b[0;34m(\u001b[0m\u001b[0mdata\u001b[0m\u001b[0;34m,\u001b[0m \u001b[0mtypes\u001b[0m\u001b[0;34m.\u001b[0m\u001b[0mGeneratorType\u001b[0m\u001b[0;34m)\u001b[0m\u001b[0;34m:\u001b[0m\u001b[0;34m\u001b[0m\u001b[0m\n",
      "\u001b[0;32m~/anaconda3/lib/python3.6/site-packages/pandas/core/frame.py\u001b[0m in \u001b[0;36m_init_ndarray\u001b[0;34m(self, values, index, columns, dtype, copy)\u001b[0m\n\u001b[1;32m    531\u001b[0m             \u001b[0mvalues\u001b[0m \u001b[0;34m=\u001b[0m \u001b[0mmaybe_infer_to_datetimelike\u001b[0m\u001b[0;34m(\u001b[0m\u001b[0mvalues\u001b[0m\u001b[0;34m)\u001b[0m\u001b[0;34m\u001b[0m\u001b[0m\n\u001b[1;32m    532\u001b[0m \u001b[0;34m\u001b[0m\u001b[0m\n\u001b[0;32m--> 533\u001b[0;31m         \u001b[0;32mreturn\u001b[0m \u001b[0mcreate_block_manager_from_blocks\u001b[0m\u001b[0;34m(\u001b[0m\u001b[0;34m[\u001b[0m\u001b[0mvalues\u001b[0m\u001b[0;34m]\u001b[0m\u001b[0;34m,\u001b[0m \u001b[0;34m[\u001b[0m\u001b[0mcolumns\u001b[0m\u001b[0;34m,\u001b[0m \u001b[0mindex\u001b[0m\u001b[0;34m]\u001b[0m\u001b[0;34m)\u001b[0m\u001b[0;34m\u001b[0m\u001b[0m\n\u001b[0m\u001b[1;32m    534\u001b[0m \u001b[0;34m\u001b[0m\u001b[0m\n\u001b[1;32m    535\u001b[0m     \u001b[0;34m@\u001b[0m\u001b[0mproperty\u001b[0m\u001b[0;34m\u001b[0m\u001b[0m\n",
      "\u001b[0;32m~/anaconda3/lib/python3.6/site-packages/pandas/core/internals.py\u001b[0m in \u001b[0;36mcreate_block_manager_from_blocks\u001b[0;34m(blocks, axes)\u001b[0m\n\u001b[1;32m   4624\u001b[0m         \u001b[0mblocks\u001b[0m \u001b[0;34m=\u001b[0m \u001b[0;34m[\u001b[0m\u001b[0mgetattr\u001b[0m\u001b[0;34m(\u001b[0m\u001b[0mb\u001b[0m\u001b[0;34m,\u001b[0m \u001b[0;34m'values'\u001b[0m\u001b[0;34m,\u001b[0m \u001b[0mb\u001b[0m\u001b[0;34m)\u001b[0m \u001b[0;32mfor\u001b[0m \u001b[0mb\u001b[0m \u001b[0;32min\u001b[0m \u001b[0mblocks\u001b[0m\u001b[0;34m]\u001b[0m\u001b[0;34m\u001b[0m\u001b[0m\n\u001b[1;32m   4625\u001b[0m         \u001b[0mtot_items\u001b[0m \u001b[0;34m=\u001b[0m \u001b[0msum\u001b[0m\u001b[0;34m(\u001b[0m\u001b[0mb\u001b[0m\u001b[0;34m.\u001b[0m\u001b[0mshape\u001b[0m\u001b[0;34m[\u001b[0m\u001b[0;36m0\u001b[0m\u001b[0;34m]\u001b[0m \u001b[0;32mfor\u001b[0m \u001b[0mb\u001b[0m \u001b[0;32min\u001b[0m \u001b[0mblocks\u001b[0m\u001b[0;34m)\u001b[0m\u001b[0;34m\u001b[0m\u001b[0m\n\u001b[0;32m-> 4626\u001b[0;31m         \u001b[0mconstruction_error\u001b[0m\u001b[0;34m(\u001b[0m\u001b[0mtot_items\u001b[0m\u001b[0;34m,\u001b[0m \u001b[0mblocks\u001b[0m\u001b[0;34m[\u001b[0m\u001b[0;36m0\u001b[0m\u001b[0;34m]\u001b[0m\u001b[0;34m.\u001b[0m\u001b[0mshape\u001b[0m\u001b[0;34m[\u001b[0m\u001b[0;36m1\u001b[0m\u001b[0;34m:\u001b[0m\u001b[0;34m]\u001b[0m\u001b[0;34m,\u001b[0m \u001b[0maxes\u001b[0m\u001b[0;34m,\u001b[0m \u001b[0me\u001b[0m\u001b[0;34m)\u001b[0m\u001b[0;34m\u001b[0m\u001b[0m\n\u001b[0m\u001b[1;32m   4627\u001b[0m \u001b[0;34m\u001b[0m\u001b[0m\n\u001b[1;32m   4628\u001b[0m \u001b[0;34m\u001b[0m\u001b[0m\n",
      "\u001b[0;32m~/anaconda3/lib/python3.6/site-packages/pandas/core/internals.py\u001b[0m in \u001b[0;36mconstruction_error\u001b[0;34m(tot_items, block_shape, axes, e)\u001b[0m\n\u001b[1;32m   4601\u001b[0m         \u001b[0;32mraise\u001b[0m \u001b[0mValueError\u001b[0m\u001b[0;34m(\u001b[0m\u001b[0;34m\"Empty data passed with indices specified.\"\u001b[0m\u001b[0;34m)\u001b[0m\u001b[0;34m\u001b[0m\u001b[0m\n\u001b[1;32m   4602\u001b[0m     raise ValueError(\"Shape of passed values is {0}, indices imply {1}\".format(\n\u001b[0;32m-> 4603\u001b[0;31m         passed, implied))\n\u001b[0m\u001b[1;32m   4604\u001b[0m \u001b[0;34m\u001b[0m\u001b[0m\n\u001b[1;32m   4605\u001b[0m \u001b[0;34m\u001b[0m\u001b[0m\n",
      "\u001b[0;31mValueError\u001b[0m: Shape of passed values is (1, 17), indices imply (2, 17)"
     ]
    }
   ],
   "source": [
    "df.head(5)\n",
    "print(\"Number of women per age\",df.loc[(df[\"PHYS_SEX\"]==\"F\"),\"REG_ADM\"].value_counts())\n",
    "femme = df.loc[(df[\"PHYS_SEX\"]==\"F\"),\"REG_ADM\"].value_counts()\n",
    "region = df.groupby('REG_ADM') \n",
    "propfemme =  femme / region['PHYS_SEX'].count() \n",
    "\n",
    "print('femme')\n",
    "print(propfemme)\n",
    "\n",
    "homme = df.loc[(df[\"PHYS_SEX\"]==\"M\"),\"REG_ADM\"].value_counts()\n",
    "prophomme =  homme / region['PHYS_SEX'].count() \n",
    "\n",
    "print('homme')\n",
    "print(prophomme)\n",
    "\n"
   ]
  },
  {
   "cell_type": "code",
   "execution_count": 29,
   "metadata": {},
   "outputs": [
    {
     "name": "stdout",
     "output_type": "stream",
     "text": [
      "149973     Abitibi-Témiscamingue (08)\n",
      "5819649    Abitibi-Témiscamingue (08)\n",
      "5100717    Abitibi-Témiscamingue (08)\n",
      "5819653    Abitibi-Témiscamingue (08)\n",
      "2727800    Abitibi-Témiscamingue (08)\n",
      "1454535    Abitibi-Témiscamingue (08)\n",
      "3752876    Abitibi-Témiscamingue (08)\n",
      "5100692    Abitibi-Témiscamingue (08)\n",
      "5100689    Abitibi-Témiscamingue (08)\n",
      "1454509    Abitibi-Témiscamingue (08)\n",
      "3752901    Abitibi-Témiscamingue (08)\n",
      "6198379    Abitibi-Témiscamingue (08)\n",
      "2996594    Abitibi-Témiscamingue (08)\n",
      "2519217    Abitibi-Témiscamingue (08)\n",
      "476949     Abitibi-Témiscamingue (08)\n",
      "476945     Abitibi-Témiscamingue (08)\n",
      "6198372    Abitibi-Témiscamingue (08)\n",
      "4101446    Abitibi-Témiscamingue (08)\n",
      "5100622    Abitibi-Témiscamingue (08)\n",
      "3752914    Abitibi-Témiscamingue (08)\n",
      "4101424    Abitibi-Témiscamingue (08)\n",
      "2727781    Abitibi-Témiscamingue (08)\n",
      "476938     Abitibi-Témiscamingue (08)\n",
      "1847445    Abitibi-Témiscamingue (08)\n",
      "1050193    Abitibi-Témiscamingue (08)\n",
      "5100610    Abitibi-Témiscamingue (08)\n",
      "4592633    Abitibi-Témiscamingue (08)\n",
      "4101488    Abitibi-Témiscamingue (08)\n",
      "2519133    Abitibi-Témiscamingue (08)\n",
      "5819602    Abitibi-Témiscamingue (08)\n",
      "                      ...            \n",
      "6409082                           NaN\n",
      "6409543                           NaN\n",
      "6409658                           NaN\n",
      "6409814                           NaN\n",
      "6410072                           NaN\n",
      "6410194                           NaN\n",
      "6410338                           NaN\n",
      "6411005                           NaN\n",
      "6411145                           NaN\n",
      "6412458                           NaN\n",
      "6412495                           NaN\n",
      "6412640                           NaN\n",
      "6412715                           NaN\n",
      "6412748                           NaN\n",
      "6412849                           NaN\n",
      "6413323                           NaN\n",
      "6413429                           NaN\n",
      "6413550                           NaN\n",
      "6413642                           NaN\n",
      "6413809                           NaN\n",
      "6413981                           NaN\n",
      "6414249                           NaN\n",
      "6414469                           NaN\n",
      "6414519                           NaN\n",
      "6415326                           NaN\n",
      "6415369                           NaN\n",
      "6415586                           NaN\n",
      "6415798                           NaN\n",
      "6416280                           NaN\n",
      "6416335                           NaN\n",
      "Name: REG_ADM, Length: 6416349, dtype: object\n"
     ]
    },
    {
     "data": {
      "text/html": [
       "<div>\n",
       "<style scoped>\n",
       "    .dataframe tbody tr th:only-of-type {\n",
       "        vertical-align: middle;\n",
       "    }\n",
       "\n",
       "    .dataframe tbody tr th {\n",
       "        vertical-align: top;\n",
       "    }\n",
       "\n",
       "    .dataframe thead th {\n",
       "        text-align: right;\n",
       "    }\n",
       "</style>\n",
       "<table border=\"1\" class=\"dataframe\">\n",
       "  <thead>\n",
       "    <tr style=\"text-align: right;\">\n",
       "      <th></th>\n",
       "      <th>Count</th>\n",
       "    </tr>\n",
       "  </thead>\n",
       "  <tbody>\n",
       "    <tr>\n",
       "      <th>Abitibi-Témiscamingue (08)</th>\n",
       "      <td>0.606307</td>\n",
       "    </tr>\n",
       "    <tr>\n",
       "      <th>Bas-Saint-Laurent (01)</th>\n",
       "      <td>0.578907</td>\n",
       "    </tr>\n",
       "    <tr>\n",
       "      <th>Capitale-Nationale (03)</th>\n",
       "      <td>0.520726</td>\n",
       "    </tr>\n",
       "    <tr>\n",
       "      <th>Centre-du-Québec (17)</th>\n",
       "      <td>0.540685</td>\n",
       "    </tr>\n",
       "    <tr>\n",
       "      <th>Chaudière-Appalaches (12)</th>\n",
       "      <td>0.559449</td>\n",
       "    </tr>\n",
       "    <tr>\n",
       "      <th>Côte-Nord (09)</th>\n",
       "      <td>0.624867</td>\n",
       "    </tr>\n",
       "    <tr>\n",
       "      <th>Estrie (05)</th>\n",
       "      <td>0.550658</td>\n",
       "    </tr>\n",
       "    <tr>\n",
       "      <th>Gaspésie–Îles-de-la-Madeleine (11)</th>\n",
       "      <td>0.618768</td>\n",
       "    </tr>\n",
       "    <tr>\n",
       "      <th>Lanaudière (14)</th>\n",
       "      <td>0.547087</td>\n",
       "    </tr>\n",
       "    <tr>\n",
       "      <th>Laurentides (15)</th>\n",
       "      <td>0.537583</td>\n",
       "    </tr>\n",
       "    <tr>\n",
       "      <th>Laval (13)</th>\n",
       "      <td>0.517348</td>\n",
       "    </tr>\n",
       "    <tr>\n",
       "      <th>Mauricie (04)</th>\n",
       "      <td>0.566355</td>\n",
       "    </tr>\n",
       "    <tr>\n",
       "      <th>Montréal (06)</th>\n",
       "      <td>0.513940</td>\n",
       "    </tr>\n",
       "    <tr>\n",
       "      <th>Montérégie (16)</th>\n",
       "      <td>0.526760</td>\n",
       "    </tr>\n",
       "    <tr>\n",
       "      <th>Nord-du-Québec (10)</th>\n",
       "      <td>0.562751</td>\n",
       "    </tr>\n",
       "    <tr>\n",
       "      <th>Outaouais (07)</th>\n",
       "      <td>0.555756</td>\n",
       "    </tr>\n",
       "    <tr>\n",
       "      <th>Saguenay–Lac-Saint-Jean (02)</th>\n",
       "      <td>0.604411</td>\n",
       "    </tr>\n",
       "  </tbody>\n",
       "</table>\n",
       "</div>"
      ],
      "text/plain": [
       "                                       Count\n",
       "Abitibi-Témiscamingue (08)          0.606307\n",
       "Bas-Saint-Laurent (01)              0.578907\n",
       "Capitale-Nationale (03)             0.520726\n",
       "Centre-du-Québec (17)               0.540685\n",
       "Chaudière-Appalaches (12)           0.559449\n",
       "Côte-Nord (09)                      0.624867\n",
       "Estrie (05)                         0.550658\n",
       "Gaspésie–Îles-de-la-Madeleine (11)  0.618768\n",
       "Lanaudière (14)                     0.547087\n",
       "Laurentides (15)                    0.537583\n",
       "Laval (13)                          0.517348\n",
       "Mauricie (04)                       0.566355\n",
       "Montréal (06)                       0.513940\n",
       "Montérégie (16)                     0.526760\n",
       "Nord-du-Québec (10)                 0.562751\n",
       "Outaouais (07)                      0.555756\n",
       "Saguenay–Lac-Saint-Jean (02)        0.604411"
      ]
     },
     "execution_count": 29,
     "metadata": {},
     "output_type": "execute_result"
    }
   ],
   "source": [
    "print(df['REG_ADM'])\n",
    "\n",
    "dfTest2 = pd.DataFrame(prophomme, columns = ['Count'] )\n",
    "dfTest2"
   ]
  },
  {
   "cell_type": "code",
   "execution_count": 23,
   "metadata": {},
   "outputs": [
    {
     "name": "stderr",
     "output_type": "stream",
     "text": [
      "IOPub data rate exceeded.\n",
      "The notebook server will temporarily stop sending output\n",
      "to the client in order to avoid crashing it.\n",
      "To change this limit, set the config variable\n",
      "`--NotebookApp.iopub_data_rate_limit`.\n"
     ]
    }
   ],
   "source": [
    "colors1 = [\"#E13F29\", \"#D69A80\", \"#E00B59\", \"#AE5552\", \"#CB5C3B\", \"#EB8076\", \"#96624E\"]\n",
    "plt.pie(\n",
    "    # using data total)arrests\n",
    "    prophomme,\n",
    "    # with the labels being officer names\n",
    "    labels=region,\n",
    "    # with no shadows\n",
    "    shadow=False,\n",
    "    # with colors\n",
    "    colors=colors1,\n",
    "    )\n",
    "plt.axis('equal')\n",
    "\n",
    "# View the plot\n",
    "plt.tight_layout()\n",
    "plt.show()\n"
   ]
  },
  {
   "cell_type": "code",
   "execution_count": null,
   "metadata": {},
   "outputs": [],
   "source": [
    "print(\"4 cylindres\")\n",
    "cylindre4 = df.loc[(df[\"NB_CYL\"]==4),\"REG_ADM\"].value_counts()\n",
    "total = region['NB_CYL'].count()\n",
    "print(cylindre4)\n",
    "print('ratio')\n",
    "print(cylindre4/total)\n"
   ]
  },
  {
   "cell_type": "code",
   "execution_count": null,
   "metadata": {},
   "outputs": [],
   "source": [
    "print(\"1 cylindres\")\n",
    "cylindre1 = df.loc[(df[\"NB_CYL\"]==1),\"REG_ADM\"].value_counts()\n",
    "print(cylindre1)\n",
    "print('ratio')\n",
    "print(cylindre1/total)\n"
   ]
  },
  {
   "cell_type": "code",
   "execution_count": null,
   "metadata": {},
   "outputs": [],
   "source": [
    "print(\"2 cylindres\")\n",
    "cylindre2 = df.loc[(df[\"NB_CYL\"]==2),\"REG_ADM\"].value_counts()\n",
    "\n",
    "print(cylindre2)\n",
    "\n",
    "print(cylindre2/total)\n"
   ]
  },
  {
   "cell_type": "code",
   "execution_count": null,
   "metadata": {},
   "outputs": [],
   "source": [
    "print(\"3 cylindres\")\n",
    "cylindre3 = df.loc[(df[\"NB_CYL\"]==3),\"REG_ADM\"].value_counts()\n",
    "\n",
    "print(cylindre3)\n",
    "\n",
    "print('ratio')\n",
    "print(cylindre3/total)\n",
    "\n"
   ]
  },
  {
   "cell_type": "code",
   "execution_count": null,
   "metadata": {},
   "outputs": [],
   "source": [
    "print(\"5 cylindres\")\n",
    "cylindre5 = df.loc[(df[\"NB_CYL\"]==5),\"REG_ADM\"].value_counts()\n",
    "print(cylindre5)\n",
    "print('ratio')\n",
    "print(cylindre5/total)"
   ]
  },
  {
   "cell_type": "code",
   "execution_count": null,
   "metadata": {},
   "outputs": [],
   "source": [
    "print(\"6 cylindres\")\n",
    "cylindre6 = df.loc[(df[\"NB_CYL\"]==6),\"REG_ADM\"].value_counts()\n",
    "print(cylindre6)\n",
    "print('ratio')\n",
    "print(cylindre6/total)"
   ]
  },
  {
   "cell_type": "code",
   "execution_count": null,
   "metadata": {},
   "outputs": [],
   "source": [
    "print(\"7 cylindres\")\n",
    "cylindre7 = df.loc[(df[\"NB_CYL\"]== 7),\"REG_ADM\"].value_counts()\n",
    "\n",
    "print(cylindre7)\n",
    "\n",
    "print('ratio')\n",
    "print(cylindre7/total)"
   ]
  },
  {
   "cell_type": "code",
   "execution_count": null,
   "metadata": {},
   "outputs": [],
   "source": [
    "print(\"8 cylindres\")\n",
    "cylindre8 = df.loc[(df[\"NB_CYL\"]==8),\"REG_ADM\"].value_counts()\n",
    "\n",
    "print(cylindre8)\n",
    "\n",
    "print('ratio')\n",
    "print(cylindre8/total)"
   ]
  },
  {
   "cell_type": "code",
   "execution_count": null,
   "metadata": {},
   "outputs": [],
   "source": [
    "print(\"plus de 8 cylindres\")\n",
    "\n",
    "cylindreplus8 = df.loc[(df[\"NB_CYL\"]==9),\"REG_ADM\"].value_counts()\n",
    "\n",
    "print(cylindreplus8)\n",
    "\n",
    "print('ratio')\n",
    "print(cylindreplus8/total)\n"
   ]
  },
  {
   "cell_type": "code",
   "execution_count": null,
   "metadata": {
    "scrolled": true
   },
   "outputs": [],
   "source": [
    "print(\"pas d'information\")\n",
    "pasdevaleur= df.loc[(df[\"NB_CYL\"]==0),\"REG_ADM\"].value_counts()\n",
    "\n",
    "print(pasdevaleur)\n",
    "\n",
    "print('ratio')\n",
    "print(pasdevaleur/total)"
   ]
  },
  {
   "cell_type": "code",
   "execution_count": null,
   "metadata": {},
   "outputs": [],
   "source": [
    "morale = df.loc[(df[\"TYP_DOSS_PERS\"]=='M'),\"REG_ADM\"].value_counts()\n",
    "print(morale)\n",
    "totaltype = region['TYP_DOSS_PERS'].count()\n",
    "\n",
    "proportionMorale =  morale/totaltype\n",
    "print('proportion')\n",
    "print(proportionMorale)\n"
   ]
  },
  {
   "cell_type": "code",
   "execution_count": null,
   "metadata": {},
   "outputs": [],
   "source": [
    "dict_clas = {\"PAU\" : \"Automobile ou camion léger\", \"PMC\":\"Motocyclette\", \"PCY\":\"Cyclomoteur\", \n",
    "             \"PHM\" : \"Habitation motorisée\", \"CAU\":\"Automobile ou camion léger\", \"CMC\":\"Motocyclette\", \"CCY\":\"Cyclomoteur\",\n",
    "              \"CHM\":\"Habitation motorisée\", \"TTA\":\"Taxi\", \"TAB\":\"Autobus\", \"TAS\":\"Autobus scolaire\", \n",
    "              \"BCA\":\"Camion ou tracteur routier\", \"CVO\":\"Véhicule-outil\", \"COT\":\"Autres\"}\n",
    "df[\"CLAS\"].replace(dict_clas, inplace =True )\n",
    "\n",
    "dict_typ_veh = {\"AB\": \"Autobus\",\"AT\": \"Aucun type spécifique\", \"AU\":\"Automobile ou camion léger\",\n",
    "                \"CA\":\"Camion ou tracteur routier\", \"CY\":\"Cyclomoteur\", \"HM\":\"Habitation motorisée\",\n",
    "               \"MN\":\"Motoneige\", \"NV\": \"Autres véhicules hors route\", \"SN\":\"Souffleuse à neige\", \"VO\":\"Véhicule-outil\",\n",
    "               \"VT\":\"Véhicule tout-terrain\"}\n",
    "df[\"TYP_VEH_CATEG_USA\"].replace(dict_typ_veh, inplace=True)\n",
    "df[\"TYP_VEH_CATEG_USA\"].head()\n"
   ]
  },
  {
   "cell_type": "code",
   "execution_count": null,
   "metadata": {},
   "outputs": [],
   "source": [
    "df.loc[(df[\"PHYS_AGE\"]>0)].min()"
   ]
  }
 ],
 "metadata": {
  "kernelspec": {
   "display_name": "Python 3",
   "language": "python",
   "name": "python3"
  },
  "language_info": {
   "codemirror_mode": {
    "name": "ipython",
    "version": 3
   },
   "file_extension": ".py",
   "mimetype": "text/x-python",
   "name": "python",
   "nbconvert_exporter": "python",
   "pygments_lexer": "ipython3",
   "version": "3.6.3"
  }
 },
 "nbformat": 4,
 "nbformat_minor": 2
}
