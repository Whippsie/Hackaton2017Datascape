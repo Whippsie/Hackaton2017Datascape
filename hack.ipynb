{
 "cells": [
  {
   "cell_type": "code",
   "execution_count": 1,
   "metadata": {
    "collapsed": true
   },
   "outputs": [],
   "source": [
    "import pandas as pd\n",
    "import numpy as np\n",
    "import seaborn as sns\n",
    "import matplotlib.pyplot as plt"
   ]
  },
  {
   "cell_type": "code",
   "execution_count": 2,
   "metadata": {
    "collapsed": true
   },
   "outputs": [],
   "source": [
    "df = pd.DataFrame()\n",
    "\n",
    "# Changer le path vers le csv sur votre machine.\n",
    "df = pd.read_csv('vehicules-circulation-2016.csv')"
   ]
  },
  {
   "cell_type": "code",
   "execution_count": 5,
   "metadata": {
    "collapsed": true
   },
   "outputs": [],
   "source": [
    "df.drop(['AN', 'NOSEQ_VEH', 'MRC'], 1, inplace=True)"
   ]
  },
  {
   "cell_type": "code",
   "execution_count": null,
   "metadata": {
    "collapsed": true
   },
   "outputs": [],
   "source": [
    "df.sort_values(['REG_ADM'], ascending=[True], inplace=True)\n",
    "values= {'NB_CYL': 0,'NB_ESIEU_MAX':0,'CYL_VEH':0,'CYL_VEH':0,'PHYS_SEX':'X' }\n",
    "df.fillna(values)"
   ]
  },
  {
   "cell_type": "code",
   "execution_count": null,
   "metadata": {
    "collapsed": true
   },
   "outputs": [],
   "source": [
    "dict_clas = {\"PAU\" : \"Automobile ou camion léger\", \"PMC\":\"Motocyclette\", \"PCY\":\"Cyclomoteur\", \n",
    "             \"PHM\" : \"Habitation motorisée\", \"CAU\":\"Automobile ou camion léger\", \"CMC\":\"Motocyclette\", \"CCY\":\"Cyclomoteur\",\n",
    "              \"CHM\":\"Habitation motorisée\", \"TTA\":\"Taxi\", \"TAB\":\"Autobus\", \"TAS\":\"Autobus scolaire\", \n",
    "              \"BCA\":\"Camion ou tracteur routier\", \"CVO\":\"Véhicule-outil\", \"COT\":\"Autres\"}\n",
    "df[\"CLAS\"].replace(dict_clas, inplace =True )\n",
    "\n",
    "dict_typ_veh = {\"AB\": \"Autobus\",\"AT\": \"Aucun type spécifique\", \"AU\":\"Automobile ou camion léger\",\n",
    "                \"CA\":\"Camion ou tracteur routier\", \"CY\":\"Cyclomoteur\", \"HM\":\"Habitation motorisée\",\n",
    "               \"MN\":\"Motoneige\", \"NV\": \"Autres véhicules hors route\", \"SN\":\"Souffleuse à neige\", \"VO\":\"Véhicule-outil\",\n",
    "               \"VT\":\"Véhicule tout-terrain\"}\n",
    "df[\"TYP_VEH_CATEG_USA\"].replace(dict_typ_veh, inplace=True)\n",
    "df[\"TYP_VEH_CATEG_USA\"].head()\n"
   ]
  },
  {
   "cell_type": "code",
   "execution_count": 12,
   "metadata": {},
   "outputs": [
    {
     "name": "stdout",
     "output_type": "stream",
     "text": [
      "      Age  Count\n",
      "0    55.0  86739\n",
      "1    53.0  86244\n",
      "2    52.0  85107\n",
      "3    51.0  84853\n",
      "4    54.0  84386\n",
      "5    56.0  84198\n",
      "6    57.0  83764\n",
      "7    58.0  82623\n",
      "8    59.0  81094\n",
      "9    50.0  76795\n",
      "10   60.0  75771\n",
      "11   61.0  74727\n",
      "12   49.0  72240\n",
      "13   62.0  70979\n",
      "14   48.0  68038\n",
      "15   46.0  66767\n",
      "16   63.0  66463\n",
      "17   47.0  66319\n",
      "18   45.0  65100\n",
      "19   64.0  62953\n",
      "20   44.0  61672\n",
      "21   41.0  61557\n",
      "22   65.0  60563\n",
      "23   43.0  60170\n",
      "24   39.0  60003\n",
      "25   40.0  59994\n",
      "26   36.0  59278\n",
      "27   38.0  59092\n",
      "28   42.0  59058\n",
      "29   37.0  58577\n",
      "..    ...    ...\n",
      "60   79.0  17466\n",
      "61   80.0  15831\n",
      "62   18.0  14694\n",
      "63   81.0  13640\n",
      "64   82.0  12053\n",
      "65   83.0  11068\n",
      "66   84.0   9671\n",
      "67   17.0   9109\n",
      "68   85.0   7995\n",
      "69   86.0   6332\n",
      "70   87.0   4901\n",
      "71   88.0   3765\n",
      "72   16.0   3334\n",
      "73   89.0   2752\n",
      "74   90.0   1948\n",
      "75   91.0   1437\n",
      "76   92.0    863\n",
      "77   15.0    746\n",
      "78   93.0    568\n",
      "79   14.0    379\n",
      "80   94.0    365\n",
      "81   95.0    241\n",
      "82   96.0    105\n",
      "83   97.0     58\n",
      "84   98.0     24\n",
      "85   99.0     21\n",
      "86  101.0      8\n",
      "87  100.0      6\n",
      "88  102.0      3\n",
      "89  104.0      1\n",
      "\n",
      "[90 rows x 2 columns]\n"
     ]
    }
   ],
   "source": [
    "sMan = df.loc[(df[\"PHYS_SEX\"]==\"M\"),\"PHYS_AGE\"].value_counts()\n",
    "dfMan = pd.DataFrame({\"Age\":sMan.index, \"Count\":sMan.values})"
   ]
  },
  {
   "cell_type": "code",
   "execution_count": 13,
   "metadata": {},
   "outputs": [
    {
     "name": "stdout",
     "output_type": "stream",
     "text": [
      "Number of women per age 53.0     48664\n",
      "51.0     48396\n",
      "52.0     48157\n",
      "55.0     47171\n",
      "54.0     47051\n",
      "56.0     45934\n",
      "50.0     44987\n",
      "57.0     44776\n",
      "58.0     43224\n",
      "49.0     42424\n",
      "59.0     41199\n",
      "48.0     40630\n",
      "46.0     39739\n",
      "47.0     39729\n",
      "45.0     39379\n",
      "39.0     38563\n",
      "36.0     38552\n",
      "41.0     38424\n",
      "38.0     38286\n",
      "37.0     38286\n",
      "60.0     38150\n",
      "35.0     38127\n",
      "40.0     37915\n",
      "44.0     37431\n",
      "61.0     37304\n",
      "42.0     36992\n",
      "34.0     36374\n",
      "43.0     36149\n",
      "62.0     34825\n",
      "33.0     34491\n",
      "         ...  \n",
      "78.0      9890\n",
      "79.0      8546\n",
      "80.0      8143\n",
      "81.0      7103\n",
      "17.0      6175\n",
      "82.0      6135\n",
      "83.0      5575\n",
      "84.0      4807\n",
      "85.0      3826\n",
      "86.0      3067\n",
      "87.0      2355\n",
      "16.0      1960\n",
      "88.0      1818\n",
      "89.0      1344\n",
      "90.0       963\n",
      "91.0       603\n",
      "92.0       419\n",
      "93.0       286\n",
      "15.0       207\n",
      "94.0       141\n",
      "95.0       108\n",
      "14.0        97\n",
      "96.0        56\n",
      "97.0        29\n",
      "98.0        19\n",
      "100.0       13\n",
      "99.0         6\n",
      "101.0        3\n",
      "104.0        1\n",
      "102.0        1\n",
      "Name: PHYS_AGE, dtype: int64\n"
     ]
    }
   ],
   "source": [
    "print(\"Number of women per age\",df.loc[(df[\"PHYS_SEX\"]==\"F\"),\"PHYS_AGE\"].value_counts())"
   ]
  },
  {
   "cell_type": "code",
   "execution_count": 14,
   "metadata": {},
   "outputs": [
    {
     "name": "stdout",
     "output_type": "stream",
     "text": [
      "PHYS_SEX\n",
      "F    2032622\n",
      "M    3477054\n",
      "Name: PHYS_AGE, dtype: int64\n"
     ]
    }
   ],
   "source": [
    "print(df.groupby(\"PHYS_SEX\")[\"PHYS_AGE\"].count())\n"
   ]
  },
  {
   "cell_type": "code",
   "execution_count": 20,
   "metadata": {},
   "outputs": [
    {
     "name": "stdout",
     "output_type": "stream",
     "text": [
      "    Count Interval_Age\n",
      "0  256367        14-25\n",
      "1  473502        26-35\n",
      "2  604501        36-45\n",
      "3  777488        46-55\n",
      "4  743135        56-65\n",
      "5  442973        66-75\n",
      "6  179088          76+\n"
     ]
    }
   ],
   "source": [
    "s1 = dfMan.query('Age > 13 & Age < 26')\n",
    "s2 = dfMan.query('Age > 25 & Age < 36')\n",
    "s3 = dfMan.query('Age > 35 & Age < 46')\n",
    "s4 = dfMan.query('Age > 45 & Age < 56')\n",
    "s5 = dfMan.query('Age > 55 & Age < 66')\n",
    "s6 = dfMan.query('Age > 65 & Age < 76')\n",
    "s7 = dfMan.query('Age > 75')\n",
    "\n",
    "s1=s1['Count'].sum()\n",
    "s2=s2['Count'].sum()\n",
    "s3=s3['Count'].sum()\n",
    "s4=s4['Count'].sum()\n",
    "s5=s5['Count'].sum()\n",
    "s6=s6['Count'].sum()\n",
    "s7=s7['Count'].sum()\n",
    "\n",
    "raw_data = {'Count': [s1, s2, s3, s4, s5, s6, s7],'Interval_Age': ['14-25', '26-35', '36-45', '46-55', '56-65', '66-75', '76+']}\n",
    "dfTest2 = pd.DataFrame(raw_data, columns = ['Count', 'Interval_Age'])\n",
    "\n",
    "\n",
    "print(dfTest2)"
   ]
  },
  {
   "cell_type": "code",
   "execution_count": 21,
   "metadata": {},
   "outputs": [
    {
     "data": {
      "image/png": "[encoded data removed]",
      "text/plain": [
       "<matplotlib.figure.Figure at 0x7f97a4553a20>"
      ]
     },
     "metadata": {},
     "output_type": "display_data"
    }
   ],
   "source": [
    "# Create a list of colors (from iWantHue)\n",
    "colors = [\"#E13F29\", \"#D69A80\", \"#E00B59\", \"#AE5552\", \"#CB5C3B\", \"#EB8076\", \"#96624E\"]\n",
    "\n",
    "# Create a pie chart\n",
    "plt.pie(\n",
    "    # using data total)arrests\n",
    "    dfTest2['Count'],\n",
    "    # with the labels being officer names\n",
    "    labels=dfTest2['Interval_Age'],\n",
    "    # with no shadows\n",
    "    shadow=False,\n",
    "    # with colors\n",
    "    colors=colors,\n",
    "    )\n",
    "\n",
    "# View the plot drop above\n",
    "plt.axis('equal')\n",
    "\n",
    "# View the plot\n",
    "plt.tight_layout()\n",
    "plt.show()"
   ]
  },
  {
   "cell_type": "code",
   "execution_count": 18,
   "metadata": {},
   "outputs": [
    {
     "name": "stdout",
     "output_type": "stream",
     "text": [
      "14.0\n",
      "104.0\n",
      "Age\n",
      "(14, 24]     212803\n",
      "(24, 34]     459693\n",
      "(34, 44]     596395\n",
      "(44, 54]     755849\n",
      "(54, 64]     769311\n",
      "(64, 74]     474897\n",
      "(74, 84]     176334\n",
      "(84, 94]      30926\n",
      "(94, 104]       467\n",
      "Name: Count, dtype: int64\n"
     ]
    }
   ],
   "source": [
    "#Code Younes avec Min et Max\n",
    "# Bin the data frame by \"a\" with 10 bins...\n",
    "bins = np.linspace(dfMan.Age.min(), dfMan.Age.max(), 10)\n",
    "print (dfMan.Age.min())\n",
    "print (dfMan.Age.max())\n",
    "groups = dfMan.groupby(pd.cut(dfMan.Age, bins))\n",
    "print (groups.sum().Count)"
   ]
  },
  {
   "cell_type": "code",
   "execution_count": 28,
   "metadata": {},
   "outputs": [
    {
     "data": {
      "image/png": "[encoded data removed]",
      "text/plain": [
       "<matplotlib.figure.Figure at 0x7f97561503c8>"
      ]
     },
     "metadata": {},
     "output_type": "display_data"
    }
   ],
   "source": [
    "swoMan = df.loc[(df[\"PHYS_SEX\"]==\"F\"),\"PHYS_AGE\"].value_counts()\n",
    "dfwoMan = pd.DataFrame({\"Age\":swoMan.index, \"Count\":swoMan.values})\n",
    "\n",
    "\n",
    "#Code Younes avec Min et Max\n",
    "# Bin the data frame by \"a\" with 10 bins...\n",
    "bins = np.linspace(dfwoMan.Age.min(), dfwoMan.Age.max(),9)\n",
    "groups = dfwoMan.groupby(pd.cut(dfwoMan.Age, bins, include_lowest=True))\n",
    "swoManIntervals = groups.sum().Count\n",
    "dfwoManIntervals = pd.DataFrame({\"Age\":swoManIntervals.index, \"Count\":swoManIntervals.values})\n",
    "\n",
    "\n",
    "# Create a list of colors (from iWantHue)\n",
    "colors = [\"#E13F29\", \"#D69A80\", \"#E00B59\", \"#AE5552\", \"#CB5C3B\", \"#EB8076\", \"#96624E\"]\n",
    "\n",
    "# Create a pie chart\n",
    "plt.pie(\n",
    "    # using data total)arrests\n",
    "    dfwoManIntervals['Count'],\n",
    "    # with the labels being officer names\n",
    "    labels=dfwoManIntervals['Age'],\n",
    "    # with no shadows\n",
    "    shadow=False,\n",
    "    # with colors\n",
    "    colors=colors,\n",
    "    )\n",
    "\n",
    "# View the plot drop above\n",
    "plt.axis('equal')\n",
    "\n",
    "# View the plot\n",
    "plt.tight_layout()\n",
    "plt.show()"
   ]
  },
  {
   "cell_type": "code",
   "execution_count": 32,
   "metadata": {},
   "outputs": [
    {
     "name": "stdout",
     "output_type": "stream",
     "text": [
      "    Count Interval_Age\n",
      "0  189842        14-25\n",
      "1  335733        26-35\n",
      "2  379977        36-45\n",
      "3  446948        46-55\n",
      "4  377574        56-65\n",
      "5  213780        66-75\n",
      "6   88768          76+\n"
     ]
    }
   ],
   "source": [
    "swoMan = df.loc[(df[\"PHYS_SEX\"]==\"F\"),\"PHYS_AGE\"].value_counts()\n",
    "dfwoman = pd.DataFrame({\"Age\":swoMan.index, \"Count\":swoMan.values})\n",
    "\n",
    "s1 = dfwoman.query('Age > 13 & Age < 26')\n",
    "s2 = dfwoman.query('Age > 25 & Age < 36')\n",
    "s3 = dfwoman.query('Age > 35 & Age < 46')\n",
    "s4 = dfwoman.query('Age > 45 & Age < 56')\n",
    "s5 = dfwoman.query('Age > 55 & Age < 66')\n",
    "s6 = dfwoman.query('Age > 65 & Age < 76')\n",
    "s7 = dfwoman.query('Age > 75')\n",
    "\n",
    "s1=s1['Count'].sum()\n",
    "s2=s2['Count'].sum()\n",
    "s3=s3['Count'].sum()\n",
    "s4=s4['Count'].sum()\n",
    "s5=s5['Count'].sum()\n",
    "s6=s6['Count'].sum()\n",
    "s7=s7['Count'].sum()\n",
    "\n",
    "raw_data = {'Count': [s1, s2, s3, s4, s5, s6, s7],'Interval_Age': ['14-25', '26-35', '36-45', '46-55', '56-65', '66-75', '76+']}\n",
    "dfTest2 = pd.DataFrame(raw_data, columns = ['Count', 'Interval_Age'])\n",
    "\n",
    "\n",
    "print(dfTest2)"
   ]
  },
  {
   "cell_type": "code",
   "execution_count": 33,
   "metadata": {},
   "outputs": [
    {
     "data": {
      "image/png": "[encoded data removed]",
      "text/plain": [
       "<matplotlib.figure.Figure at 0x7f979441ee80>"
      ]
     },
     "metadata": {},
     "output_type": "display_data"
    }
   ],
   "source": [
    "\n",
    "# Create a list of colors (from iWantHue)\n",
    "colors = [\"#E13F29\", \"#D69A80\", \"#E00B59\", \"#AE5552\", \"#CB5C3B\", \"#EB8076\", \"#96624E\"]\n",
    "\n",
    "# Create a pie chart\n",
    "plt.pie(\n",
    "    # using data total)arrests\n",
    "    dfTest2['Count'],\n",
    "    # with the labels being officer names\n",
    "    labels=dfTest2['Interval_Age'],\n",
    "    # with no shadows\n",
    "    shadow=False,\n",
    "    # with colors\n",
    "    colors=colors,\n",
    "    )\n",
    "\n",
    "# View the plot drop above\n",
    "plt.axis('equal')\n",
    "\n",
    "# View the plot\n",
    "plt.tight_layout()\n",
    "plt.show()"
   ]
  },
  {
   "cell_type": "code",
   "execution_count": null,
   "metadata": {
    "collapsed": true
   },
   "outputs": [],
   "source": []
  }
 ],
 "metadata": {
  "kernelspec": {
   "display_name": "Python 3",
   "language": "python",
   "name": "python3"
  },
  "language_info": {
   "codemirror_mode": {
    "name": "ipython",
    "version": 3
   },
   "file_extension": ".py",
   "mimetype": "text/x-python",
   "name": "python",
   "nbconvert_exporter": "python",
   "pygments_lexer": "ipython3",
   "version": "3.6.1"
  }
 },
 "nbformat": 4,
 "nbformat_minor": 2
}
