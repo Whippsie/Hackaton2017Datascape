{
 "cells": [
  {
   "cell_type": "code",
   "execution_count": 1,
   "metadata": {
    "collapsed": true
   },
   "outputs": [],
   "source": [
    "import pandas as pd\n",
    "import numpy as np\n",
    "import seaborn as sns\n",
    "import matplotlib.pyplot as plt"
   ]
  },
  {
   "cell_type": "code",
   "execution_count": null,
   "metadata": {
    "collapsed": true
   },
   "outputs": [],
   "source": [
    "df = pd.DataFrame()\n",
    "\n",
    "# Changer le path vers le csv sur votre machine.\n",
    "df = pd.read_csv('vehicules-circulation-2016.csv')"
   ]
  },
  {
   "cell_type": "code",
   "execution_count": null,
   "metadata": {
    "collapsed": true
   },
   "outputs": [],
   "source": [
    "df.drop(['AN', 'NOSEQ_VEH', 'MRC'], 1, inplace=True)"
   ]
  },
  {
   "cell_type": "code",
   "execution_count": 157,
   "metadata": {
    "collapsed": false
   },
   "outputs": [
    {
     "name": "stdout",
     "output_type": "stream",
     "text": [
      "---------------------------\n",
      "MOYENNE DES CYLINDRÉES PAR RÉGION\n",
      "---------------------------\n",
      "REG_ADM\n",
      "Abitibi-Témiscamingue (08)            4.251181\n",
      "Bas-Saint-Laurent (01)                4.280787\n",
      "Capitale-Nationale (03)               4.364762\n",
      "Centre-du-Québec (17)                 4.401535\n",
      "Chaudière-Appalaches (12)             4.283881\n",
      "Côte-Nord (09)                        4.197552\n",
      "Estrie (05)                           4.367224\n",
      "Gaspésie–Îles-de-la-Madeleine (11)    4.248795\n",
      "Lanaudière (14)                       4.410134\n",
      "Laurentides (15)                      4.438089\n",
      "Laval (13)                            4.572877\n",
      "Mauricie (04)                         4.301294\n",
      "Montréal (06)                         4.616118\n",
      "Montérégie (16)                       4.546535\n",
      "Nord-du-Québec (10)                   4.698918\n",
      "Outaouais (07)                        4.513199\n",
      "Saguenay–Lac-Saint-Jean (02)          4.207667\n",
      "Name: NB_CYL, dtype: float64\n",
      " \n",
      "MOYENNE DES ANNÉES DES MODELES AVEC ET SANS REGION\n",
      " \n",
      "2008.0357052642767\n",
      "REG_ADM\n",
      "Abitibi-Témiscamingue (08)            2006.745160\n",
      "Bas-Saint-Laurent (01)                2006.211414\n",
      "Capitale-Nationale (03)               2009.036584\n",
      "Centre-du-Québec (17)                 2006.529187\n",
      "Chaudière-Appalaches (12)             2006.688980\n",
      "Côte-Nord (09)                        2007.732899\n",
      "Estrie (05)                           2007.373562\n",
      "Gaspésie–Îles-de-la-Madeleine (11)    2006.916311\n",
      "Lanaudière (14)                       2008.067245\n",
      "Laurentides (15)                      2008.507029\n",
      "Laval (13)                            2009.153927\n",
      "Mauricie (04)                         2007.039985\n",
      "Montréal (06)                         2009.035751\n",
      "Montérégie (16)                       2008.132910\n",
      "Nord-du-Québec (10)                   2008.358378\n",
      "Outaouais (07)                        2008.106151\n",
      "Saguenay–Lac-Saint-Jean (02)          2007.294002\n",
      "Name: ANNEE_MOD, dtype: float64\n",
      "Écart-type : \n",
      "7.5\n",
      " \n",
      "MOYENNE DES AGES PAR REGION\n",
      " \n",
      "<pandas.core.groupby.SeriesGroupBy object at 0x0000027D66E49DA0>\n",
      "---------------------------\n"
     ]
    }
   ],
   "source": [
    "print(\"---------------------------\")\n",
    "print(\"MOYENNE DES CYLINDRÉES PAR RÉGION\")\n",
    "print(\"---------------------------\")\n",
    "df.sort_values(['REG_ADM'], ascending=[True], inplace=True)\n",
    "values = {'NB_CYL': 0,'NB_ESIEU_MAX':0,'CYL_VEH':0,'CYL_VEH':0,'PHYS_SEX':'X', 'PHYS_AGE': 0 }\n",
    "df = df.fillna(values)\n",
    "montreal = df.loc[df['REG_ADM'] == 'Montréal (06)']\n",
    "\n",
    "region = df.groupby('REG_ADM') \n",
    "\n",
    "print(region['NB_CYL'].mean())\n",
    "\n",
    "\n",
    "print(\" \")\n",
    "print (\"MOYENNE DES ANNÉES DES MODELES AVEC ET SANS REGION\")\n",
    "print(\" \")\n",
    "print(df['ANNEE_MOD'].mean())\n",
    "print(region['ANNEE_MOD'].mean())\n",
    "print(\"Écart-type : \" )\n",
    "print(round(df['ANNEE_MOD'].std(), 2))\n",
    "\n",
    "print(\" \")\n",
    "print('MOYENNE DES AGES PAR REGION')\n",
    "print(\" \")\n",
    "region['PHYS_AGE']"
   ]
  },
  {
   "cell_type": "code",
   "execution_count": null,
   "metadata": {
    "collapsed": false
   },
   "outputs": [],
   "source": [
    "#region = df.groupby('REG_ADM') \n",
    "#propfemme =  femme / region['PHYS_SEX'].count() \n",
    "print(\"---------------------------\")\n",
    "print('PROPORTION DE FEMMES')\n",
    "print(\"---------------------------\")\n",
    "femme = df.loc[(df[\"PHYS_SEX\"]==\"F\"),\"REG_ADM\"].value_counts()\n",
    "temp = pd.DataFrame({\"Region\":femme.index, \"Mean\":femme.values})\n",
    "\n",
    "# Create a list of colors (from iWantHue)\n",
    "colors = [\"#DECF3F\", \"#D69A80\", \"#E00B59\", \"#AE5552\", \"#5DA5DA\", \"#60BD68\", \"#F17CB0\"]\n",
    "\n",
    "# Create a pie chart\n",
    "plt.pie(\n",
    "    temp['Mean'],\n",
    "    labels=temp['Region'],\n",
    "    shadow=False,\n",
    "    colors=colors,\n",
    "    )\n",
    "\n",
    "# View the plot drop above\n",
    "plt.axis('equal')\n",
    "\n",
    "# View the plot\n",
    "plt.tight_layout()\n",
    "plt.show()\n",
    "#------------------------------------------\n",
    "\n",
    "print(\"---------------------------\")\n",
    "print('PROPORTION DES HOMMES')\n",
    "print(\"---------------------------\")\n",
    "homme = df.loc[(df[\"PHYS_SEX\"]==\"M\"),\"REG_ADM\"].value_counts()\n",
    "temp2 = pd.DataFrame({\"Region\":homme.index, \"Mean\":homme.values})\n",
    "\n",
    "plt.pie(\n",
    "    temp2['Mean'],\n",
    "    labels=temp2['Region'],\n",
    "    shadow=False,\n",
    "    colors=colors,\n",
    "    )\n",
    "\n",
    "# View the plot drop above\n",
    "plt.axis('equal')\n",
    "\n",
    "# View the plot\n",
    "plt.tight_layout()\n",
    "plt.show()"
   ]
  },
  {
   "cell_type": "code",
   "execution_count": 6,
   "metadata": {
    "collapsed": false
   },
   "outputs": [
    {
     "data": {
      "text/plain": [
       "149973     Automobile ou camion léger\n",
       "5819649    Automobile ou camion léger\n",
       "5100717    Automobile ou camion léger\n",
       "5819653    Automobile ou camion léger\n",
       "2727800    Automobile ou camion léger\n",
       "Name: TYP_VEH_CATEG_USA, dtype: object"
      ]
     },
     "execution_count": 6,
     "metadata": {},
     "output_type": "execute_result"
    }
   ],
   "source": [
    "dict_clas = {\"PAU\" : \"Automobile ou camion léger\", \"PMC\":\"Motocyclette\", \"PCY\":\"Cyclomoteur\", \n",
    "             \"PHM\" : \"Habitation motorisée\", \"CAU\":\"Automobile ou camion léger\", \"CMC\":\"Motocyclette\", \"CCY\":\"Cyclomoteur\",\n",
    "              \"CHM\":\"Habitation motorisée\", \"TTA\":\"Taxi\", \"TAB\":\"Autobus\", \"TAS\":\"Autobus scolaire\", \n",
    "              \"BCA\":\"Camion ou tracteur routier\", \"CVO\":\"Véhicule-outil\", \"COT\":\"Autres\"}\n",
    "df[\"CLAS\"].replace(dict_clas, inplace =True )\n",
    "\n",
    "dict_typ_veh = {\"AB\": \"Autobus\",\"AT\": \"Aucun type spécifique\", \"AU\":\"Automobile ou camion léger\",\n",
    "                \"CA\":\"Camion ou tracteur routier\", \"CY\":\"Cyclomoteur\", \"HM\":\"Habitation motorisée\",\n",
    "               \"MN\":\"Motoneige\", \"NV\": \"Autres véhicules hors route\", \"SN\":\"Souffleuse à neige\", \"VO\":\"Véhicule-outil\",\n",
    "               \"VT\":\"Véhicule tout-terrain\"}\n",
    "df[\"TYP_VEH_CATEG_USA\"].replace(dict_typ_veh, inplace=True)\n",
    "df[\"TYP_VEH_CATEG_USA\"].head()\n"
   ]
  },
  {
   "cell_type": "code",
   "execution_count": 7,
   "metadata": {
    "collapsed": true
   },
   "outputs": [],
   "source": [
    "sMan = df.loc[(df[\"PHYS_SEX\"]==\"M\"),\"PHYS_AGE\"].value_counts()\n",
    "dfMan = pd.DataFrame({\"Age\":sMan.index, \"Count\":sMan.values})"
   ]
  },
  {
   "cell_type": "code",
   "execution_count": 160,
   "metadata": {
    "collapsed": false
   },
   "outputs": [
    {
     "name": "stdout",
     "output_type": "stream",
     "text": [
      "Number of women per age 53.0     48664\n",
      "51.0     48396\n",
      "52.0     48157\n",
      "55.0     47171\n",
      "54.0     47051\n",
      "56.0     45934\n",
      "50.0     44987\n",
      "57.0     44776\n",
      "58.0     43224\n",
      "49.0     42424\n",
      "59.0     41199\n",
      "48.0     40630\n",
      "46.0     39739\n",
      "47.0     39729\n",
      "45.0     39379\n",
      "39.0     38563\n",
      "36.0     38552\n",
      "41.0     38424\n",
      "38.0     38286\n",
      "37.0     38286\n",
      "60.0     38150\n",
      "35.0     38127\n",
      "40.0     37915\n",
      "44.0     37431\n",
      "61.0     37304\n",
      "42.0     36992\n",
      "34.0     36374\n",
      "43.0     36149\n",
      "62.0     34825\n",
      "33.0     34491\n",
      "         ...  \n",
      "78.0      9890\n",
      "79.0      8546\n",
      "80.0      8143\n",
      "81.0      7103\n",
      "17.0      6175\n",
      "82.0      6135\n",
      "83.0      5575\n",
      "84.0      4807\n",
      "85.0      3826\n",
      "86.0      3067\n",
      "87.0      2355\n",
      "16.0      1960\n",
      "88.0      1818\n",
      "89.0      1344\n",
      "90.0       963\n",
      "91.0       603\n",
      "92.0       419\n",
      "93.0       286\n",
      "15.0       207\n",
      "94.0       141\n",
      "95.0       108\n",
      "14.0        97\n",
      "96.0        56\n",
      "97.0        29\n",
      "98.0        19\n",
      "100.0       13\n",
      "99.0         6\n",
      "101.0        3\n",
      "104.0        1\n",
      "102.0        1\n",
      "Name: PHYS_AGE, dtype: int64\n",
      "2032622\n",
      "3477054\n"
     ]
    }
   ],
   "source": [
    "print(\"Number of women per age\",df.loc[(df[\"PHYS_SEX\"]==\"F\"),\"PHYS_AGE\"].value_counts())"
   ]
  },
  {
   "cell_type": "code",
   "execution_count": 9,
   "metadata": {
    "collapsed": false
   },
   "outputs": [
    {
     "name": "stdout",
     "output_type": "stream",
     "text": [
      "PHYS_SEX\n",
      "F    2032622\n",
      "M    3477054\n",
      "X     906673\n",
      "Name: PHYS_AGE, dtype: int64\n"
     ]
    }
   ],
   "source": [
    "print(df.groupby(\"PHYS_SEX\")[\"PHYS_AGE\"].count())\n"
   ]
  },
  {
   "cell_type": "code",
   "execution_count": 10,
   "metadata": {
    "collapsed": false
   },
   "outputs": [
    {
     "name": "stdout",
     "output_type": "stream",
     "text": [
      "    Count Interval_Age\n",
      "0  256367        14-25\n",
      "1  473502        26-35\n",
      "2  604501        36-45\n",
      "3  777488        46-55\n",
      "4  743135        56-65\n",
      "5  442973        66-75\n",
      "6  179088          76+\n"
     ]
    }
   ],
   "source": [
    "s1 = dfMan.query('Age > 13 & Age < 26')\n",
    "s2 = dfMan.query('Age > 25 & Age < 36')\n",
    "s3 = dfMan.query('Age > 35 & Age < 46')\n",
    "s4 = dfMan.query('Age > 45 & Age < 56')\n",
    "s5 = dfMan.query('Age > 55 & Age < 66')\n",
    "s6 = dfMan.query('Age > 65 & Age < 76')\n",
    "s7 = dfMan.query('Age > 75')\n",
    "\n",
    "s1=s1['Count'].sum()\n",
    "s2=s2['Count'].sum()\n",
    "s3=s3['Count'].sum()\n",
    "s4=s4['Count'].sum()\n",
    "s5=s5['Count'].sum()\n",
    "s6=s6['Count'].sum()\n",
    "s7=s7['Count'].sum()\n",
    "\n",
    "raw_data = {'Count': [s1, s2, s3, s4, s5, s6, s7],'Interval_Age': ['14-25', '26-35', '36-45', '46-55', '56-65', '66-75', '76+']}\n",
    "dfTest2 = pd.DataFrame(raw_data, columns = ['Count', 'Interval_Age'])\n",
    "\n",
    "\n",
    "print(dfTest2)"
   ]
  },
  {
   "cell_type": "code",
   "execution_count": 11,
   "metadata": {
    "collapsed": false
   },
   "outputs": [
    {
     "data": {
      "image/png": "[encoded data removed]",
      "text/plain": [
       "<matplotlib.figure.Figure at 0x27d5cf83240>"
      ]
     },
     "metadata": {},
     "output_type": "display_data"
    }
   ],
   "source": [
    "# Create a list of colors (from iWantHue)\n",
    "colors = [\"#E13F29\", \"#D69A80\", \"#E00B59\", \"#AE5552\", \"#CB5C3B\", \"#EB8076\", \"#96624E\"]\n",
    "\n",
    "# Create a pie chart\n",
    "plt.pie(\n",
    "    # using data total)arrests\n",
    "    dfTest2['Count'],\n",
    "    # with the labels being officer names\n",
    "    labels=dfTest2['Interval_Age'],\n",
    "    # with no shadows\n",
    "    shadow=False,\n",
    "    # with colors\n",
    "    colors=colors,\n",
    "    )\n",
    "\n",
    "# View the plot drop above\n",
    "plt.axis('equal')\n",
    "\n",
    "# View the plot\n",
    "plt.tight_layout()\n",
    "plt.show()"
   ]
  },
  {
   "cell_type": "code",
   "execution_count": 12,
   "metadata": {
    "collapsed": false
   },
   "outputs": [
    {
     "data": {
      "image/png": "[encoded data removed]",
      "text/plain": [
       "<matplotlib.figure.Figure at 0x27d5573c780>"
      ]
     },
     "metadata": {},
     "output_type": "display_data"
    }
   ],
   "source": [
    "swoMan = df.loc[(df[\"PHYS_SEX\"]==\"F\"),\"PHYS_AGE\"].value_counts()\n",
    "dfwoMan = pd.DataFrame({\"Age\":swoMan.index, \"Count\":swoMan.values})\n",
    "\n",
    "\n",
    "#Code Younes avec Min et Max\n",
    "# Bin the data frame by \"a\" with 10 bins...\n",
    "bins = np.linspace(dfwoMan.Age.min(), dfwoMan.Age.max(),9)\n",
    "groups = dfwoMan.groupby(pd.cut(dfwoMan.Age, bins, include_lowest=True))\n",
    "swoManIntervals = groups.sum().Count\n",
    "dfwoManIntervals = pd.DataFrame({\"Age\":swoManIntervals.index, \"Count\":swoManIntervals.values})\n",
    "\n",
    "\n",
    "# Create a list of colors (from iWantHue)\n",
    "colors = [\"#E13F29\", \"#D69A80\", \"#E00B59\", \"#AE5552\", \"#CB5C3B\", \"#EB8076\", \"#96624E\"]\n",
    "\n",
    "# Create a pie chart\n",
    "plt.pie(\n",
    "    # using data total)arrests\n",
    "    dfwoManIntervals['Count'],\n",
    "    # with the labels being officer names\n",
    "    labels=dfwoManIntervals['Age'],\n",
    "    # with no shadows\n",
    "    shadow=False,\n",
    "    # with colors\n",
    "    colors=colors,\n",
    "    )\n",
    "\n",
    "# View the plot drop above\n",
    "plt.axis('equal')\n",
    "\n",
    "# View the plot\n",
    "plt.tight_layout()\n",
    "plt.show()"
   ]
  },
  {
   "cell_type": "code",
   "execution_count": 13,
   "metadata": {
    "collapsed": false
   },
   "outputs": [
    {
     "name": "stdout",
     "output_type": "stream",
     "text": [
      "    Count Interval_Age\n",
      "0  189842        14-25\n",
      "1  335733        26-35\n",
      "2  379977        36-45\n",
      "3  446948        46-55\n",
      "4  377574        56-65\n",
      "5  213780        66-75\n",
      "6   88768          76+\n"
     ]
    }
   ],
   "source": [
    "swoMan = df.loc[(df[\"PHYS_SEX\"]==\"F\"),\"PHYS_AGE\"].value_counts()\n",
    "dfwoman = pd.DataFrame({\"Age\":swoMan.index, \"Count\":swoMan.values})\n",
    "\n",
    "s1 = dfwoman.query('Age > 13 & Age < 26')\n",
    "s2 = dfwoman.query('Age > 25 & Age < 36')\n",
    "s3 = dfwoman.query('Age > 35 & Age < 46')\n",
    "s4 = dfwoman.query('Age > 45 & Age < 56')\n",
    "s5 = dfwoman.query('Age > 55 & Age < 66')\n",
    "s6 = dfwoman.query('Age > 65 & Age < 76')\n",
    "s7 = dfwoman.query('Age > 75')\n",
    "\n",
    "s1=s1['Count'].sum()\n",
    "s2=s2['Count'].sum()\n",
    "s3=s3['Count'].sum()\n",
    "s4=s4['Count'].sum()\n",
    "s5=s5['Count'].sum()\n",
    "s6=s6['Count'].sum()\n",
    "s7=s7['Count'].sum()\n",
    "\n",
    "raw_data = {'Count': [s1, s2, s3, s4, s5, s6, s7],'Interval_Age': ['14-25', '26-35', '36-45', '46-55', '56-65', '66-75', '76+']}\n",
    "dfTest2 = pd.DataFrame(raw_data, columns = ['Count', 'Interval_Age'])\n",
    "\n",
    "\n",
    "print(dfTest2)"
   ]
  },
  {
   "cell_type": "code",
   "execution_count": 15,
   "metadata": {
    "collapsed": false
   },
   "outputs": [
    {
     "data": {
      "image/png": "[encoded data removed]",
      "text/plain": [
       "<matplotlib.figure.Figure at 0x1d485d54630>"
      ]
     },
     "metadata": {},
     "output_type": "display_data"
    }
   ],
   "source": [
    "\n",
    "# Create a list of colors (from iWantHue)\n",
    "colors = [\"#E13F29\", \"#D69A80\", \"#E00B59\", \"#AE5552\", \"#CB5C3B\", \"#EB8076\", \"#96624E\"]\n",
    "\n",
    "# Create a pie chart\n",
    "plt.pie(\n",
    "    # using data total)arrests\n",
    "    dfTest2['Count'],\n",
    "    # with the labels being officer names\n",
    "    labels=dfTest2['Interval_Age'],\n",
    "    # with no shadows\n",
    "    shadow=False,\n",
    "    # with colors\n",
    "    colors=colors,\n",
    "    )\n",
    "\n",
    "# View the plot drop above\n",
    "plt.axis('equal')\n",
    "\n",
    "# View the plot\n",
    "plt.tight_layout()\n",
    "plt.show()"
   ]
  },
  {
   "cell_type": "code",
   "execution_count": 103,
   "metadata": {
    "collapsed": false
   },
   "outputs": [
    {
     "data": {
      "text/html": [
       "<div>\n",
       "<table border=\"1\" class=\"dataframe\">\n",
       "  <thead>\n",
       "    <tr style=\"text-align: right;\">\n",
       "      <th></th>\n",
       "      <th>Pop.</th>\n",
       "      <th>Véhicules de promenades par p.</th>\n",
       "      <th>Véhicules de promenades par p.</th>\n",
       "      <th>Total par p.</th>\n",
       "    </tr>\n",
       "    <tr>\n",
       "      <th>REG_ADM</th>\n",
       "      <th></th>\n",
       "      <th></th>\n",
       "      <th></th>\n",
       "      <th></th>\n",
       "    </tr>\n",
       "  </thead>\n",
       "  <tbody>\n",
       "    <tr>\n",
       "      <th>Abitibi-Témiscamingue (08)</th>\n",
       "      <td>123669</td>\n",
       "      <td>1.23</td>\n",
       "      <td>1.23</td>\n",
       "      <td>1.43</td>\n",
       "    </tr>\n",
       "    <tr>\n",
       "      <th>Bas-Saint-Laurent (01)</th>\n",
       "      <td>172433</td>\n",
       "      <td>1.04</td>\n",
       "      <td>1.04</td>\n",
       "      <td>1.21</td>\n",
       "    </tr>\n",
       "    <tr>\n",
       "      <th>Capitale-Nationale (03)</th>\n",
       "      <td>632843</td>\n",
       "      <td>0.78</td>\n",
       "      <td>0.78</td>\n",
       "      <td>0.92</td>\n",
       "    </tr>\n",
       "    <tr>\n",
       "      <th>Centre-du-Québec (17)</th>\n",
       "      <td>205525</td>\n",
       "      <td>0.99</td>\n",
       "      <td>0.99</td>\n",
       "      <td>1.18</td>\n",
       "    </tr>\n",
       "    <tr>\n",
       "      <th>Chaudière-Appalaches (12)</th>\n",
       "      <td>357479</td>\n",
       "      <td>1.02</td>\n",
       "      <td>1.02</td>\n",
       "      <td>1.20</td>\n",
       "    </tr>\n",
       "    <tr>\n",
       "      <th>Côte-Nord (09)</th>\n",
       "      <td>77840</td>\n",
       "      <td>1.13</td>\n",
       "      <td>1.13</td>\n",
       "      <td>1.27</td>\n",
       "    </tr>\n",
       "    <tr>\n",
       "      <th>Estrie (05)</th>\n",
       "      <td>274839</td>\n",
       "      <td>0.88</td>\n",
       "      <td>0.88</td>\n",
       "      <td>1.01</td>\n",
       "    </tr>\n",
       "    <tr>\n",
       "      <th>Gaspésie–Îles-de-la-Madeleine (11)</th>\n",
       "      <td>80840</td>\n",
       "      <td>1.14</td>\n",
       "      <td>1.14</td>\n",
       "      <td>1.26</td>\n",
       "    </tr>\n",
       "    <tr>\n",
       "      <th>Lanaudière (14)</th>\n",
       "      <td>418899</td>\n",
       "      <td>0.91</td>\n",
       "      <td>0.91</td>\n",
       "      <td>1.03</td>\n",
       "    </tr>\n",
       "    <tr>\n",
       "      <th>Laurentides (15)</th>\n",
       "      <td>506613</td>\n",
       "      <td>0.89</td>\n",
       "      <td>0.89</td>\n",
       "      <td>1.01</td>\n",
       "    </tr>\n",
       "    <tr>\n",
       "      <th>Laval (13)</th>\n",
       "      <td>357684</td>\n",
       "      <td>0.69</td>\n",
       "      <td>0.69</td>\n",
       "      <td>0.81</td>\n",
       "    </tr>\n",
       "    <tr>\n",
       "      <th>Mauricie (04)</th>\n",
       "      <td>232881</td>\n",
       "      <td>0.93</td>\n",
       "      <td>0.93</td>\n",
       "      <td>1.04</td>\n",
       "    </tr>\n",
       "    <tr>\n",
       "      <th>Montréal (06)</th>\n",
       "      <td>1709397</td>\n",
       "      <td>0.46</td>\n",
       "      <td>0.46</td>\n",
       "      <td>0.56</td>\n",
       "    </tr>\n",
       "    <tr>\n",
       "      <th>Montérégie (16)</th>\n",
       "      <td>1284705</td>\n",
       "      <td>0.83</td>\n",
       "      <td>0.83</td>\n",
       "      <td>0.96</td>\n",
       "    </tr>\n",
       "    <tr>\n",
       "      <th>Nord-du-Québec (10)</th>\n",
       "      <td>33173</td>\n",
       "      <td>0.64</td>\n",
       "      <td>0.64</td>\n",
       "      <td>0.79</td>\n",
       "    </tr>\n",
       "    <tr>\n",
       "      <th>Outaouais (07)</th>\n",
       "      <td>324790</td>\n",
       "      <td>0.84</td>\n",
       "      <td>0.84</td>\n",
       "      <td>0.93</td>\n",
       "    </tr>\n",
       "    <tr>\n",
       "      <th>Saguenay–Lac-Saint-Jean (02)</th>\n",
       "      <td>236959</td>\n",
       "      <td>1.08</td>\n",
       "      <td>1.08</td>\n",
       "      <td>1.22</td>\n",
       "    </tr>\n",
       "  </tbody>\n",
       "</table>\n",
       "</div>"
      ],
      "text/plain": [
       "                                       Pop.  Véhicules de promenades par p.  \\\n",
       "REG_ADM                                                                       \n",
       "Abitibi-Témiscamingue (08)           123669                            1.23   \n",
       "Bas-Saint-Laurent (01)               172433                            1.04   \n",
       "Capitale-Nationale (03)              632843                            0.78   \n",
       "Centre-du-Québec (17)                205525                            0.99   \n",
       "Chaudière-Appalaches (12)            357479                            1.02   \n",
       "Côte-Nord (09)                        77840                            1.13   \n",
       "Estrie (05)                          274839                            0.88   \n",
       "Gaspésie–Îles-de-la-Madeleine (11)    80840                            1.14   \n",
       "Lanaudière (14)                      418899                            0.91   \n",
       "Laurentides (15)                     506613                            0.89   \n",
       "Laval (13)                           357684                            0.69   \n",
       "Mauricie (04)                        232881                            0.93   \n",
       "Montréal (06)                       1709397                            0.46   \n",
       "Montérégie (16)                     1284705                            0.83   \n",
       "Nord-du-Québec (10)                   33173                            0.64   \n",
       "Outaouais (07)                       324790                            0.84   \n",
       "Saguenay–Lac-Saint-Jean (02)         236959                            1.08   \n",
       "\n",
       "                                    Véhicules de promenades par p.  \\\n",
       "REG_ADM                                                              \n",
       "Abitibi-Témiscamingue (08)                                    1.23   \n",
       "Bas-Saint-Laurent (01)                                        1.04   \n",
       "Capitale-Nationale (03)                                       0.78   \n",
       "Centre-du-Québec (17)                                         0.99   \n",
       "Chaudière-Appalaches (12)                                     1.02   \n",
       "Côte-Nord (09)                                                1.13   \n",
       "Estrie (05)                                                   0.88   \n",
       "Gaspésie–Îles-de-la-Madeleine (11)                            1.14   \n",
       "Lanaudière (14)                                               0.91   \n",
       "Laurentides (15)                                              0.89   \n",
       "Laval (13)                                                    0.69   \n",
       "Mauricie (04)                                                 0.93   \n",
       "Montréal (06)                                                 0.46   \n",
       "Montérégie (16)                                               0.83   \n",
       "Nord-du-Québec (10)                                           0.64   \n",
       "Outaouais (07)                                                0.84   \n",
       "Saguenay–Lac-Saint-Jean (02)                                  1.08   \n",
       "\n",
       "                                    Total par p.  \n",
       "REG_ADM                                           \n",
       "Abitibi-Témiscamingue (08)                  1.43  \n",
       "Bas-Saint-Laurent (01)                      1.21  \n",
       "Capitale-Nationale (03)                     0.92  \n",
       "Centre-du-Québec (17)                       1.18  \n",
       "Chaudière-Appalaches (12)                   1.20  \n",
       "Côte-Nord (09)                              1.27  \n",
       "Estrie (05)                                 1.01  \n",
       "Gaspésie–Îles-de-la-Madeleine (11)          1.26  \n",
       "Lanaudière (14)                             1.03  \n",
       "Laurentides (15)                            1.01  \n",
       "Laval (13)                                  0.81  \n",
       "Mauricie (04)                               1.04  \n",
       "Montréal (06)                               0.56  \n",
       "Montérégie (16)                             0.96  \n",
       "Nord-du-Québec (10)                         0.79  \n",
       "Outaouais (07)                              0.93  \n",
       "Saguenay–Lac-Saint-Jean (02)                1.22  "
      ]
     },
     "execution_count": 103,
     "metadata": {},
     "output_type": "execute_result"
    }
   ],
   "source": [
    "# POUR CALCULER LE NOMBRE DE VÉHICULE PAR PERSONNE DE 15 ANS ET PLUS\n",
    "statpop_15ans = pd.Series({\"Bas-Saint-Laurent (01)\":172433, \"Saguenay–Lac-Saint-Jean (02)\":236959,\n",
    "                           \"Capitale-Nationale (03)\": 632843, \"Mauricie (04)\": 232881, \"Estrie (05)\":274839, \n",
    "                           \"Montréal (06)\": 1709397, \"Outaouais (07)\" : 324790, \"Abitibi-Témiscamingue (08)\":123669, \n",
    "                           \"Côte-Nord (09)\": 77840, \"Nord-du-Québec (10)\": 33173, \"Gaspésie–Îles-de-la-Madeleine (11)\":80840,\n",
    "                           \"Chaudière-Appalaches (12)\":357479, \"Laval (13)\":357684, \"Lanaudière (14)\":418899,\n",
    "                           \"Laurentides (15)\": 506613, \"Montérégie (16)\": 1284705, \"Centre-du-Québec (17)\":205525})\n",
    "nbreVPersonnelles = df.query(\"TYP_DOSS_PERS == 'P'\").groupby(\"REG_ADM\")[\"TYP_DOSS_PERS\"].count()\n",
    "nbreVCommercials = df.query(\"TYP_DOSS_PERS == 'M'\").groupby(\"REG_ADM\")[\"TYP_DOSS_PERS\"].count()\n",
    "ratio = pd.concat([statpop_15ans, nbreVPersonnelles, nbreVCommercials], axis=1)\n",
    "ratio.columns = [\"Pop.\", \"Véhicules de promenades\", \"Véhicules commercials\"]\n",
    "ratio[\"Véhicules de promenades par p.\"]= (ratio[\"Véhicules de promenades\"]/ratio[\"Pop.\"]).round(2)\n",
    "ratio[\"Véhicules de commercials par p.\"] = (ratio[\"Véhicules commercials\"]/ratio[\"Pop.\"]).round(2)\n",
    "ratio[\"Total par p.\"] = ((ratio[\"Véhicules de promenades\"]+ratio[\"Véhicules commercials\"]) /ratio[\"Pop.\"]).round(2)\n",
    "ratio.ix[:,[\"Pop.\", \"Véhicules de promenades par p.\", \"Véhicules de promenades par p.\",\"Total par p.\"]]"
   ]
  },
  {
   "cell_type": "code",
   "execution_count": 124,
   "metadata": {
    "collapsed": false
   },
   "outputs": [
    {
     "data": {
      "text/plain": [
       "22    137932\n",
       "dtype: int64"
      ]
     },
     "execution_count": 124,
     "metadata": {},
     "output_type": "execute_result"
    }
   ],
   "source": [
    "#proportion véhicule par personne tranche d'âge montréa;\n",
    "popByAge = pd.read_csv(\"RA_groupes_age_et_sexe.csv\")\n",
    "popMontreal = popByAge[popByAge[\"Région\"] == \"Montréal (06)\"]\n",
    "popMontrealMan = popMontreal[popMontreal[\"Sexe\"] == \"Hommes\"]\n",
    "popMontrealWoman = popMontreal[popMontreal[\"Sexe\"] == \"Femmes\"]\n",
    "pm1 = (popMontrealMan.loc[:, \"15\":\"25\"]).sum(axis=1)\n",
    "pm2 = popMontrealMan.loc[:, \"26\":\"50\"].sum(axis=1)\n",
    "pm3 = popMontrealMan.loc[:, \"51\":\"75\"].sum(axis=1)\n",
    "pm4 = popMontrealMan.loc[:, \"75\":].sum(axis=1)\n",
    "pw1 = popMontrealMan.loc[:, \"15\":\"25\"].sum(axis=1)\n",
    "pw2 = popMontrealMan.loc[:, \"26\":\"50\"].sum(axis=1)\n",
    "pw3 = popMontrealMan.loc[:, \"51\":\"75\"].sum(axis=1)\n",
    "pw4 = popMontrealMan.loc[:, \"75\":].sum(axis=1)\n",
    "pm1\n",
    "\n",
    "\n",
    "\n",
    "\n",
    "\n",
    "\n",
    "\n"
   ]
  },
  {
   "cell_type": "code",
   "execution_count": 148,
   "metadata": {
    "collapsed": false
   },
   "outputs": [
    {
     "data": {
      "text/html": [
       "<div>\n",
       "<table border=\"1\" class=\"dataframe\">\n",
       "  <thead>\n",
       "    <tr style=\"text-align: right;\">\n",
       "      <th></th>\n",
       "      <th>Véhicules de promenade par femme</th>\n",
       "      <th>Véhicules de promenade par homme</th>\n",
       "    </tr>\n",
       "  </thead>\n",
       "  <tbody>\n",
       "    <tr>\n",
       "      <th>15-25</th>\n",
       "      <td>0.14</td>\n",
       "      <td>0.19</td>\n",
       "    </tr>\n",
       "    <tr>\n",
       "      <th>26-50</th>\n",
       "      <td>0.39</td>\n",
       "      <td>0.62</td>\n",
       "    </tr>\n",
       "    <tr>\n",
       "      <th>51-75</th>\n",
       "      <td>0.44</td>\n",
       "      <td>0.75</td>\n",
       "    </tr>\n",
       "    <tr>\n",
       "      <th>75 et plus</th>\n",
       "      <td>0.18</td>\n",
       "      <td>0.34</td>\n",
       "    </tr>\n",
       "  </tbody>\n",
       "</table>\n",
       "</div>"
      ],
      "text/plain": [
       "            Véhicules de promenade par femme  Véhicules de promenade par homme\n",
       "15-25                                   0.14                              0.19\n",
       "26-50                                   0.39                              0.62\n",
       "51-75                                   0.44                              0.75\n",
       "75 et plus                              0.18                              0.34"
      ]
     },
     "execution_count": 148,
     "metadata": {},
     "output_type": "execute_result"
    }
   ],
   "source": [
    "montreal = df[df['REG_ADM'] == 'Montréal (06)']\n",
    "montreal = montreal[montreal['TYP_DOSS_PERS'] == 'P']\n",
    "montrealMan = pd.Series(montreal.loc[(df[\"PHYS_SEX\"]==\"M\"),\"PHYS_AGE\"].value_counts()).sort_index()\n",
    "montrealWoman = pd.Series(montreal.loc[(df[\"PHYS_SEX\"]==\"F\"),\"PHYS_AGE\"].value_counts()).sort_index()\n",
    "montrealMan.columns = [\"Count\"]\n",
    "montrealWoman.columns = [\"Count\"]\n",
    "m1 = montrealMan[15:25].sum() #char enregistré par tranche d'âge\n",
    "m2 = montrealMan[26:50].sum()\n",
    "m3 = montrealMan[51:75].sum()\n",
    "m4 = montrealMan[75:].sum()\n",
    "w1 = montrealWoman[15:25].sum()\n",
    "w2 = montrealWoman[26:50].sum()\n",
    "w3 = montrealWoman[51:75].sum()\n",
    "w4 = montrealWoman[75:].sum()\n",
    "propFemmesMtl = pd.DataFrame([(w1/pw1).round(2),(w2/pw2).round(2),(w3/pw3).round(2),(w4/pw4).round(2)], \n",
    "                             index=[\"15-25\",\"26-50\",\"51-75\",\"75 et plus\"])\n",
    "propHommesMtl = pd.DataFrame([(m1/pm1).round(2),(m2/pm2).round(2),(m3/pm3).round(2),(m4/pm4).round(2)], \n",
    "                             index=[\"15-25\",\"26-50\",\"51-75\",\"75 et plus\"])\n",
    "propTotMtl = pd.concat([propFemmesMtl, propHommesMtl], axis=1)\n",
    "propTotMtl.columns = [\"Véhicules de promenade par femme\", \"Véhicules de promenade par homme\"]\n",
    "propTotMtl\n"
   ]
  },
  {
   "cell_type": "code",
   "execution_count": 74,
   "metadata": {
    "collapsed": false
   },
   "outputs": [
    {
     "ename": "TypeError",
     "evalue": "unsupported operand type(s) for /: 'int' and 'str'",
     "output_type": "error",
     "traceback": [
      "\u001b[0;31m---------------------------------------------------------------------------\u001b[0m",
      "\u001b[0;31mTypeError\u001b[0m                                 Traceback (most recent call last)",
      "\u001b[0;32mC:\\Users\\Charkes\\Anaconda3\\lib\\site-packages\\pandas\\core\\ops.py\u001b[0m in \u001b[0;36mna_op\u001b[0;34m(x, y)\u001b[0m\n\u001b[1;32m    651\u001b[0m             result = expressions.evaluate(op, str_rep, x, y,\n\u001b[0;32m--> 652\u001b[0;31m                                           raise_on_error=True, **eval_kwargs)\n\u001b[0m\u001b[1;32m    653\u001b[0m         \u001b[1;32mexcept\u001b[0m \u001b[0mTypeError\u001b[0m\u001b[1;33m:\u001b[0m\u001b[1;33m\u001b[0m\u001b[0m\n",
      "\u001b[0;32mC:\\Users\\Charkes\\Anaconda3\\lib\\site-packages\\pandas\\computation\\expressions.py\u001b[0m in \u001b[0;36mevaluate\u001b[0;34m(op, op_str, a, b, raise_on_error, use_numexpr, **eval_kwargs)\u001b[0m\n\u001b[1;32m    209\u001b[0m         return _evaluate(op, op_str, a, b, raise_on_error=raise_on_error,\n\u001b[0;32m--> 210\u001b[0;31m                          **eval_kwargs)\n\u001b[0m\u001b[1;32m    211\u001b[0m     \u001b[1;32mreturn\u001b[0m \u001b[0m_evaluate_standard\u001b[0m\u001b[1;33m(\u001b[0m\u001b[0mop\u001b[0m\u001b[1;33m,\u001b[0m \u001b[0mop_str\u001b[0m\u001b[1;33m,\u001b[0m \u001b[0ma\u001b[0m\u001b[1;33m,\u001b[0m \u001b[0mb\u001b[0m\u001b[1;33m,\u001b[0m \u001b[0mraise_on_error\u001b[0m\u001b[1;33m=\u001b[0m\u001b[0mraise_on_error\u001b[0m\u001b[1;33m)\u001b[0m\u001b[1;33m\u001b[0m\u001b[0m\n",
      "\u001b[0;32mC:\\Users\\Charkes\\Anaconda3\\lib\\site-packages\\pandas\\computation\\expressions.py\u001b[0m in \u001b[0;36m_evaluate_numexpr\u001b[0;34m(op, op_str, a, b, raise_on_error, truediv, reversed, **eval_kwargs)\u001b[0m\n\u001b[1;32m    120\u001b[0m     \u001b[1;32mif\u001b[0m \u001b[0mresult\u001b[0m \u001b[1;32mis\u001b[0m \u001b[1;32mNone\u001b[0m\u001b[1;33m:\u001b[0m\u001b[1;33m\u001b[0m\u001b[0m\n\u001b[0;32m--> 121\u001b[0;31m         \u001b[0mresult\u001b[0m \u001b[1;33m=\u001b[0m \u001b[0m_evaluate_standard\u001b[0m\u001b[1;33m(\u001b[0m\u001b[0mop\u001b[0m\u001b[1;33m,\u001b[0m \u001b[0mop_str\u001b[0m\u001b[1;33m,\u001b[0m \u001b[0ma\u001b[0m\u001b[1;33m,\u001b[0m \u001b[0mb\u001b[0m\u001b[1;33m,\u001b[0m \u001b[0mraise_on_error\u001b[0m\u001b[1;33m)\u001b[0m\u001b[1;33m\u001b[0m\u001b[0m\n\u001b[0m\u001b[1;32m    122\u001b[0m \u001b[1;33m\u001b[0m\u001b[0m\n",
      "\u001b[0;32mC:\\Users\\Charkes\\Anaconda3\\lib\\site-packages\\pandas\\computation\\expressions.py\u001b[0m in \u001b[0;36m_evaluate_standard\u001b[0;34m(op, op_str, a, b, raise_on_error, **eval_kwargs)\u001b[0m\n\u001b[1;32m     62\u001b[0m     \u001b[1;32mwith\u001b[0m \u001b[0mnp\u001b[0m\u001b[1;33m.\u001b[0m\u001b[0merrstate\u001b[0m\u001b[1;33m(\u001b[0m\u001b[0mall\u001b[0m\u001b[1;33m=\u001b[0m\u001b[1;34m'ignore'\u001b[0m\u001b[1;33m)\u001b[0m\u001b[1;33m:\u001b[0m\u001b[1;33m\u001b[0m\u001b[0m\n\u001b[0;32m---> 63\u001b[0;31m         \u001b[1;32mreturn\u001b[0m \u001b[0mop\u001b[0m\u001b[1;33m(\u001b[0m\u001b[0ma\u001b[0m\u001b[1;33m,\u001b[0m \u001b[0mb\u001b[0m\u001b[1;33m)\u001b[0m\u001b[1;33m\u001b[0m\u001b[0m\n\u001b[0m\u001b[1;32m     64\u001b[0m \u001b[1;33m\u001b[0m\u001b[0m\n",
      "\u001b[0;32mC:\\Users\\Charkes\\Anaconda3\\lib\\site-packages\\pandas\\core\\ops.py\u001b[0m in \u001b[0;36m<lambda>\u001b[0;34m(x, y)\u001b[0m\n\u001b[1;32m     92\u001b[0m                           default_axis=default_axis, reversed=True),\n\u001b[0;32m---> 93\u001b[0;31m         rtruediv=arith_method(lambda x, y: operator.truediv(y, x),\n\u001b[0m\u001b[1;32m     94\u001b[0m                               \u001b[0mnames\u001b[0m\u001b[1;33m(\u001b[0m\u001b[1;34m'rtruediv'\u001b[0m\u001b[1;33m)\u001b[0m\u001b[1;33m,\u001b[0m \u001b[0mop\u001b[0m\u001b[1;33m(\u001b[0m\u001b[1;34m'/'\u001b[0m\u001b[1;33m)\u001b[0m\u001b[1;33m,\u001b[0m \u001b[0mtruediv\u001b[0m\u001b[1;33m=\u001b[0m\u001b[1;32mTrue\u001b[0m\u001b[1;33m,\u001b[0m\u001b[1;33m\u001b[0m\u001b[0m\n",
      "\u001b[0;31mTypeError\u001b[0m: unsupported operand type(s) for /: 'int' and 'str'",
      "\nDuring handling of the above exception, another exception occurred:\n",
      "\u001b[0;31mTypeError\u001b[0m                                 Traceback (most recent call last)",
      "\u001b[0;32mC:\\Users\\Charkes\\Anaconda3\\lib\\site-packages\\pandas\\core\\ops.py\u001b[0m in \u001b[0;36msafe_na_op\u001b[0;34m(lvalues, rvalues)\u001b[0m\n\u001b[1;32m    675\u001b[0m             \u001b[1;32mwith\u001b[0m \u001b[0mnp\u001b[0m\u001b[1;33m.\u001b[0m\u001b[0merrstate\u001b[0m\u001b[1;33m(\u001b[0m\u001b[0mall\u001b[0m\u001b[1;33m=\u001b[0m\u001b[1;34m'ignore'\u001b[0m\u001b[1;33m)\u001b[0m\u001b[1;33m:\u001b[0m\u001b[1;33m\u001b[0m\u001b[0m\n\u001b[0;32m--> 676\u001b[0;31m                 \u001b[1;32mreturn\u001b[0m \u001b[0mna_op\u001b[0m\u001b[1;33m(\u001b[0m\u001b[0mlvalues\u001b[0m\u001b[1;33m,\u001b[0m \u001b[0mrvalues\u001b[0m\u001b[1;33m)\u001b[0m\u001b[1;33m\u001b[0m\u001b[0m\n\u001b[0m\u001b[1;32m    677\u001b[0m         \u001b[1;32mexcept\u001b[0m \u001b[0mException\u001b[0m\u001b[1;33m:\u001b[0m\u001b[1;33m\u001b[0m\u001b[0m\n",
      "\u001b[0;32mC:\\Users\\Charkes\\Anaconda3\\lib\\site-packages\\pandas\\core\\ops.py\u001b[0m in \u001b[0;36mna_op\u001b[0;34m(x, y)\u001b[0m\n\u001b[1;32m    661\u001b[0m                 \u001b[0mmask\u001b[0m \u001b[1;33m=\u001b[0m \u001b[0mnotnull\u001b[0m\u001b[1;33m(\u001b[0m\u001b[0mx\u001b[0m\u001b[1;33m)\u001b[0m\u001b[1;33m\u001b[0m\u001b[0m\n\u001b[0;32m--> 662\u001b[0;31m                 \u001b[0mresult\u001b[0m\u001b[1;33m[\u001b[0m\u001b[0mmask\u001b[0m\u001b[1;33m]\u001b[0m \u001b[1;33m=\u001b[0m \u001b[0mop\u001b[0m\u001b[1;33m(\u001b[0m\u001b[0mx\u001b[0m\u001b[1;33m[\u001b[0m\u001b[0mmask\u001b[0m\u001b[1;33m]\u001b[0m\u001b[1;33m,\u001b[0m \u001b[0my\u001b[0m\u001b[1;33m)\u001b[0m\u001b[1;33m\u001b[0m\u001b[0m\n\u001b[0m\u001b[1;32m    663\u001b[0m             \u001b[1;32melse\u001b[0m\u001b[1;33m:\u001b[0m\u001b[1;33m\u001b[0m\u001b[0m\n",
      "\u001b[0;32mC:\\Users\\Charkes\\Anaconda3\\lib\\site-packages\\pandas\\core\\ops.py\u001b[0m in \u001b[0;36m<lambda>\u001b[0;34m(x, y)\u001b[0m\n\u001b[1;32m     92\u001b[0m                           default_axis=default_axis, reversed=True),\n\u001b[0;32m---> 93\u001b[0;31m         rtruediv=arith_method(lambda x, y: operator.truediv(y, x),\n\u001b[0m\u001b[1;32m     94\u001b[0m                               \u001b[0mnames\u001b[0m\u001b[1;33m(\u001b[0m\u001b[1;34m'rtruediv'\u001b[0m\u001b[1;33m)\u001b[0m\u001b[1;33m,\u001b[0m \u001b[0mop\u001b[0m\u001b[1;33m(\u001b[0m\u001b[1;34m'/'\u001b[0m\u001b[1;33m)\u001b[0m\u001b[1;33m,\u001b[0m \u001b[0mtruediv\u001b[0m\u001b[1;33m=\u001b[0m\u001b[1;32mTrue\u001b[0m\u001b[1;33m,\u001b[0m\u001b[1;33m\u001b[0m\u001b[0m\n",
      "\u001b[0;31mTypeError\u001b[0m: unsupported operand type(s) for /: 'int' and 'str'",
      "\nDuring handling of the above exception, another exception occurred:\n",
      "\u001b[0;31mTypeError\u001b[0m                                 Traceback (most recent call last)",
      "\u001b[0;32m<ipython-input-74-25e65b02a2da>\u001b[0m in \u001b[0;36m<module>\u001b[0;34m()\u001b[0m\n\u001b[1;32m      1\u001b[0m \u001b[1;31m#ici je fais les ratios de véhicules par tranche d'âge par personne\u001b[0m\u001b[1;33m\u001b[0m\u001b[1;33m\u001b[0m\u001b[0m\n\u001b[0;32m----> 2\u001b[0;31m \u001b[0mproportionParAge\u001b[0m\u001b[1;33m=\u001b[0m \u001b[1;33m[\u001b[0m\u001b[0mm\u001b[0m\u001b[1;33m/\u001b[0m\u001b[0mpm\u001b[0m\u001b[1;33m,\u001b[0m \u001b[0mw\u001b[0m\u001b[1;33m/\u001b[0m\u001b[0mpw\u001b[0m\u001b[1;33m]\u001b[0m\u001b[1;33m\u001b[0m\u001b[0m\n\u001b[0m\u001b[1;32m      3\u001b[0m \u001b[0mproportionParAge\u001b[0m\u001b[1;33m\u001b[0m\u001b[0m\n",
      "\u001b[0;32mC:\\Users\\Charkes\\Anaconda3\\lib\\site-packages\\pandas\\core\\ops.py\u001b[0m in \u001b[0;36mwrapper\u001b[0;34m(left, right, name, na_op)\u001b[0m\n\u001b[1;32m    713\u001b[0m                 \u001b[0mlvalues\u001b[0m \u001b[1;33m=\u001b[0m \u001b[0mlvalues\u001b[0m\u001b[1;33m.\u001b[0m\u001b[0mvalues\u001b[0m\u001b[1;33m\u001b[0m\u001b[0m\n\u001b[1;32m    714\u001b[0m \u001b[1;33m\u001b[0m\u001b[0m\n\u001b[0;32m--> 715\u001b[0;31m         \u001b[0mresult\u001b[0m \u001b[1;33m=\u001b[0m \u001b[0mwrap_results\u001b[0m\u001b[1;33m(\u001b[0m\u001b[0msafe_na_op\u001b[0m\u001b[1;33m(\u001b[0m\u001b[0mlvalues\u001b[0m\u001b[1;33m,\u001b[0m \u001b[0mrvalues\u001b[0m\u001b[1;33m)\u001b[0m\u001b[1;33m)\u001b[0m\u001b[1;33m\u001b[0m\u001b[0m\n\u001b[0m\u001b[1;32m    716\u001b[0m         return construct_result(\n\u001b[1;32m    717\u001b[0m             \u001b[0mleft\u001b[0m\u001b[1;33m,\u001b[0m\u001b[1;33m\u001b[0m\u001b[0m\n",
      "\u001b[0;32mC:\\Users\\Charkes\\Anaconda3\\lib\\site-packages\\pandas\\core\\ops.py\u001b[0m in \u001b[0;36msafe_na_op\u001b[0;34m(lvalues, rvalues)\u001b[0m\n\u001b[1;32m    684\u001b[0m                 \u001b[1;32mif\u001b[0m \u001b[0mis_object_dtype\u001b[0m\u001b[1;33m(\u001b[0m\u001b[0mlvalues\u001b[0m\u001b[1;33m)\u001b[0m\u001b[1;33m:\u001b[0m\u001b[1;33m\u001b[0m\u001b[0m\n\u001b[1;32m    685\u001b[0m                     return _algos.arrmap_object(lvalues,\n\u001b[0;32m--> 686\u001b[0;31m                                                 lambda x: op(x, rvalues))\n\u001b[0m\u001b[1;32m    687\u001b[0m             \u001b[1;32mraise\u001b[0m\u001b[1;33m\u001b[0m\u001b[0m\n\u001b[1;32m    688\u001b[0m \u001b[1;33m\u001b[0m\u001b[0m\n",
      "\u001b[0;32mpandas\\src\\algos_common_helper.pxi\u001b[0m in \u001b[0;36mpandas.algos.arrmap_object (pandas\\algos.c:46681)\u001b[0;34m()\u001b[0m\n",
      "\u001b[0;32mC:\\Users\\Charkes\\Anaconda3\\lib\\site-packages\\pandas\\core\\ops.py\u001b[0m in \u001b[0;36m<lambda>\u001b[0;34m(x)\u001b[0m\n\u001b[1;32m    684\u001b[0m                 \u001b[1;32mif\u001b[0m \u001b[0mis_object_dtype\u001b[0m\u001b[1;33m(\u001b[0m\u001b[0mlvalues\u001b[0m\u001b[1;33m)\u001b[0m\u001b[1;33m:\u001b[0m\u001b[1;33m\u001b[0m\u001b[0m\n\u001b[1;32m    685\u001b[0m                     return _algos.arrmap_object(lvalues,\n\u001b[0;32m--> 686\u001b[0;31m                                                 lambda x: op(x, rvalues))\n\u001b[0m\u001b[1;32m    687\u001b[0m             \u001b[1;32mraise\u001b[0m\u001b[1;33m\u001b[0m\u001b[0m\n\u001b[1;32m    688\u001b[0m \u001b[1;33m\u001b[0m\u001b[0m\n",
      "\u001b[0;32mC:\\Users\\Charkes\\Anaconda3\\lib\\site-packages\\pandas\\core\\ops.py\u001b[0m in \u001b[0;36m<lambda>\u001b[0;34m(x, y)\u001b[0m\n\u001b[1;32m     91\u001b[0m         rsub=arith_method(lambda x, y: y - x, names('rsub'), op('-'),\n\u001b[1;32m     92\u001b[0m                           default_axis=default_axis, reversed=True),\n\u001b[0;32m---> 93\u001b[0;31m         rtruediv=arith_method(lambda x, y: operator.truediv(y, x),\n\u001b[0m\u001b[1;32m     94\u001b[0m                               \u001b[0mnames\u001b[0m\u001b[1;33m(\u001b[0m\u001b[1;34m'rtruediv'\u001b[0m\u001b[1;33m)\u001b[0m\u001b[1;33m,\u001b[0m \u001b[0mop\u001b[0m\u001b[1;33m(\u001b[0m\u001b[1;34m'/'\u001b[0m\u001b[1;33m)\u001b[0m\u001b[1;33m,\u001b[0m \u001b[0mtruediv\u001b[0m\u001b[1;33m=\u001b[0m\u001b[1;32mTrue\u001b[0m\u001b[1;33m,\u001b[0m\u001b[1;33m\u001b[0m\u001b[0m\n\u001b[1;32m     95\u001b[0m                               \u001b[0mfill_zeros\u001b[0m\u001b[1;33m=\u001b[0m\u001b[0mnp\u001b[0m\u001b[1;33m.\u001b[0m\u001b[0minf\u001b[0m\u001b[1;33m,\u001b[0m \u001b[0mdefault_axis\u001b[0m\u001b[1;33m=\u001b[0m\u001b[0mdefault_axis\u001b[0m\u001b[1;33m,\u001b[0m\u001b[1;33m\u001b[0m\u001b[0m\n",
      "\u001b[0;31mTypeError\u001b[0m: unsupported operand type(s) for /: 'int' and 'str'"
     ]
    }
   ],
   "source": [
    "\n"
   ]
  },
  {
   "cell_type": "code",
   "execution_count": null,
   "metadata": {
    "collapsed": true
   },
   "outputs": [],
   "source": []
  }
 ],
 "metadata": {
  "kernelspec": {
   "display_name": "Python 3",
   "language": "python",
   "name": "python3"
  },
  "language_info": {
   "codemirror_mode": {
    "name": "ipython",
    "version": 3
   },
   "file_extension": ".py",
   "mimetype": "text/x-python",
   "name": "python",
   "nbconvert_exporter": "python",
   "pygments_lexer": "ipython3",
   "version": "3.6.0"
  }
 },
 "nbformat": 4,
 "nbformat_minor": 2
}
