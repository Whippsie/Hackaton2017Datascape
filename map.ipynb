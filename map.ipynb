{
 "cells": [
  {
   "cell_type": "code",
   "execution_count": 91,
   "metadata": {},
   "outputs": [],
   "source": [
    "from shapely.geometry import Point\n",
    "from geopandas import GeoSeries, GeoDataFrame\n",
    "\n",
    "import descartes\n",
    "import numpy as np\n",
    "import matplotlib.pyplot as plt\n",
    "import pandas\n",
    "\n",
    "%matplotlib inline"
   ]
  },
  {
   "cell_type": "code",
   "execution_count": 92,
   "metadata": {},
   "outputs": [],
   "source": [
    "df = pandas.read_csv('../vehicules-circulation-2016.csv')"
   ]
  },
  {
   "cell_type": "code",
   "execution_count": 93,
   "metadata": {},
   "outputs": [
    {
     "data": {
      "text/html": [
       "<div>\n",
       "<style scoped>\n",
       "    .dataframe tbody tr th:only-of-type {\n",
       "        vertical-align: middle;\n",
       "    }\n",
       "\n",
       "    .dataframe tbody tr th {\n",
       "        vertical-align: top;\n",
       "    }\n",
       "\n",
       "    .dataframe thead th {\n",
       "        text-align: right;\n",
       "    }\n",
       "</style>\n",
       "<table border=\"1\" class=\"dataframe\">\n",
       "  <thead>\n",
       "    <tr style=\"text-align: right;\">\n",
       "      <th></th>\n",
       "      <th>AN</th>\n",
       "      <th>NOSEQ_VEH</th>\n",
       "      <th>CLAS</th>\n",
       "      <th>TYP_VEH_CATEG_USA</th>\n",
       "      <th>MARQ_VEH</th>\n",
       "      <th>MODEL_VEH</th>\n",
       "      <th>ANNEE_MOD</th>\n",
       "      <th>MASSE_NETTE</th>\n",
       "      <th>NB_CYL</th>\n",
       "      <th>CYL_VEH</th>\n",
       "      <th>NB_ESIEU_MAX</th>\n",
       "      <th>COUL_ORIG</th>\n",
       "      <th>TYP_DOSS_PERS</th>\n",
       "      <th>PHYS_SEX</th>\n",
       "      <th>PHYS_AGE</th>\n",
       "      <th>REG_ADM</th>\n",
       "      <th>MRC</th>\n",
       "      <th>CG_FIXE</th>\n",
       "    </tr>\n",
       "  </thead>\n",
       "  <tbody>\n",
       "    <tr>\n",
       "      <th>0</th>\n",
       "      <td>2016</td>\n",
       "      <td>2016_0000000001</td>\n",
       "      <td>PAU</td>\n",
       "      <td>AU</td>\n",
       "      <td>MAZDA</td>\n",
       "      <td>3</td>\n",
       "      <td>2009.0</td>\n",
       "      <td>1221.0</td>\n",
       "      <td>4.0</td>\n",
       "      <td>2000.0</td>\n",
       "      <td>NaN</td>\n",
       "      <td>GRI</td>\n",
       "      <td>P</td>\n",
       "      <td>F</td>\n",
       "      <td>32.0</td>\n",
       "      <td>Laurentides (15)</td>\n",
       "      <td>Deux-Montagnes (72 )</td>\n",
       "      <td>72010.0</td>\n",
       "    </tr>\n",
       "  </tbody>\n",
       "</table>\n",
       "</div>"
      ],
      "text/plain": [
       "     AN        NOSEQ_VEH CLAS TYP_VEH_CATEG_USA MARQ_VEH MODEL_VEH  ANNEE_MOD  \\\n",
       "0  2016  2016_0000000001  PAU                AU    MAZDA         3     2009.0   \n",
       "\n",
       "   MASSE_NETTE  NB_CYL  CYL_VEH  NB_ESIEU_MAX COUL_ORIG TYP_DOSS_PERS  \\\n",
       "0       1221.0     4.0   2000.0           NaN       GRI             P   \n",
       "\n",
       "  PHYS_SEX  PHYS_AGE           REG_ADM                   MRC  CG_FIXE  \n",
       "0        F      32.0  Laurentides (15)  Deux-Montagnes (72 )  72010.0  "
      ]
     },
     "execution_count": 93,
     "metadata": {},
     "output_type": "execute_result"
    }
   ],
   "source": [
    "df.head(1)"
   ]
  },
  {
   "cell_type": "code",
   "execution_count": 163,
   "metadata": {},
   "outputs": [],
   "source": [
    "shp = GeoDataFrame.from_file('/Users/alexandrebrilhante/GitHub/hack/region_admin_SHP/region_admin_poly.shp')"
   ]
  },
  {
   "cell_type": "code",
   "execution_count": 164,
   "metadata": {
    "scrolled": false
   },
   "outputs": [],
   "source": [
    "for index, row in shp.iterrows():\n",
    "    shp.loc[index,'RES_NM_REG'] = str(row['RES_NM_REG']) + \" (\" + str(row['RES_CO_REG']) + \")\""
   ]
  },
  {
   "cell_type": "code",
   "execution_count": 211,
   "metadata": {},
   "outputs": [],
   "source": [
    "df2 = df.groupby(['REG_ADM']).size()\n",
    "df3 = pandas.DataFrame({\"Reg\":df2.index, \"count\":df2.values})"
   ]
  },
  {
   "cell_type": "code",
   "execution_count": 244,
   "metadata": {},
   "outputs": [
    {
     "name": "stdout",
     "output_type": "stream",
     "text": [
      "                                   Reg    count\n",
      "0           Abitibi-Témiscamingue (08)   176371\n",
      "1               Bas-Saint-Laurent (01)   209087\n",
      "2              Capitale-Nationale (03)   584803\n",
      "3                Centre-du-Québec (17)   241638\n",
      "4            Chaudière-Appalaches (12)   428486\n",
      "5                       Côte-Nord (09)    98541\n",
      "6                          Estrie (05)   277517\n",
      "7   Gaspésie–Îles-de-la-Madeleine (11)   101875\n",
      "8                      Lanaudière (14)   433176\n",
      "9                     Laurentides (15)   511469\n",
      "10                          Laval (13)   288800\n",
      "11                       Mauricie (04)   241631\n",
      "12                       Montréal (06)   952528\n",
      "13                     Montérégie (16)  1228211\n",
      "14                 Nord-du-Québec (10)    26159\n",
      "15                      Outaouais (07)   301546\n",
      "16        Saguenay–Lac-Saint-Jean (02)   289083\n",
      "Côte-Nord (09)\n",
      "5    98541\n",
      "Name: count, dtype: int64\n",
      "Côte-Nord (09)\n",
      "5    98541\n",
      "Name: count, dtype: int64\n",
      "Côte-Nord (09)\n",
      "5    98541\n",
      "Name: count, dtype: int64\n",
      "Saguenay - Lac-Saint-Jean (02)\n",
      "Series([], Name: count, dtype: int64)\n",
      "Gaspésie - Îles-de-la-Madeleine (11)\n",
      "Series([], Name: count, dtype: int64)\n",
      "Bas-Saint-Laurent (01)\n",
      "1    209087\n",
      "Name: count, dtype: int64\n",
      "Abitibi-Témiscamingue (08)\n",
      "0    176371\n",
      "Name: count, dtype: int64\n",
      "Mauricie (04)\n",
      "11    241631\n",
      "Name: count, dtype: int64\n",
      "Capitale-Nationale (03)\n",
      "2    584803\n",
      "Name: count, dtype: int64\n",
      "Outaouais (07)\n",
      "15    301546\n",
      "Name: count, dtype: int64\n",
      "Laurentides (15)\n",
      "9    511469\n",
      "Name: count, dtype: int64\n",
      "Lanaudière (14)\n",
      "8    433176\n",
      "Name: count, dtype: int64\n",
      "Chaudière-Appalaches (12)\n",
      "4    428486\n",
      "Name: count, dtype: int64\n",
      "Centre-du-Québec (17)\n",
      "3    241638\n",
      "Name: count, dtype: int64\n",
      "Montérégie (16)\n",
      "13    1228211\n",
      "Name: count, dtype: int64\n",
      "Estrie (05)\n",
      "6    277517\n",
      "Name: count, dtype: int64\n",
      "Montréal (06)\n",
      "12    952528\n",
      "Name: count, dtype: int64\n",
      "Laval (13)\n",
      "10    288800\n",
      "Name: count, dtype: int64\n",
      "Nord-du-Québec (10)\n",
      "14    26159\n",
      "Name: count, dtype: int64\n",
      "Côte-Nord (09)\n",
      "5    98541\n",
      "Name: count, dtype: int64\n",
      "Côte-Nord (09)\n",
      "5    98541\n",
      "Name: count, dtype: int64\n"
     ]
    },
    {
     "name": "stderr",
     "output_type": "stream",
     "text": [
      "/usr/local/lib/python3.6/site-packages/ipykernel_launcher.py:2: SettingWithCopyWarning: \n",
      "A value is trying to be set on a copy of a slice from a DataFrame.\n",
      "Try using .loc[row_indexer,col_indexer] = value instead\n",
      "\n",
      "See the caveats in the documentation: http://pandas.pydata.org/pandas-docs/stable/indexing.html#indexing-view-versus-copy\n",
      "  \n"
     ]
    }
   ],
   "source": [
    "geo = shp[['RES_NM_REG', 'geometry']]\n",
    "geo['count'] = None\n",
    "print(df3)\n",
    "for index,row in geo.iterrows():\n",
    "    #geo.loc[index,'count'] = \n",
    "    print(row['RES_NM_REG'])\n",
    "    print(df3.loc[ df3['Reg'] == row['RES_NM_REG'] ,'count'])"
   ]
  },
  {
   "cell_type": "code",
   "execution_count": 160,
   "metadata": {},
   "outputs": [
    {
     "data": {
      "text/plain": [
       "<matplotlib.axes._subplots.AxesSubplot at 0x11029bd30>"
      ]
     },
     "execution_count": 160,
     "metadata": {},
     "output_type": "execute_result"
    },
    {
     "data": {
      "image/png": "[encoded data removed]",
      "text/plain": [
       "<matplotlib.figure.Figure at 0x11029b908>"
      ]
     },
     "metadata": {},
     "output_type": "display_data"
    }
   ],
   "source": [
    "geo.plot(column='')\n",
    "#    value = geo.loc[index,'RES_NM_REG']\n",
    " #   geo.loc[index,'count'] = df3.loc[ df3['Reg'] == value ,'count']"
   ]
  },
  {
   "cell_type": "markdown",
   "metadata": {},
   "source": []
  },
  {
   "cell_type": "code",
   "execution_count": null,
   "metadata": {},
   "outputs": [],
   "source": []
  }
 ],
 "metadata": {
  "kernelspec": {
   "display_name": "Python 3",
   "language": "python",
   "name": "python3"
  },
  "language_info": {
   "codemirror_mode": {
    "name": "ipython",
    "version": 3
   },
   "file_extension": ".py",
   "mimetype": "text/x-python",
   "name": "python",
   "nbconvert_exporter": "python",
   "pygments_lexer": "ipython3",
   "version": "3.6.3"
  }
 },
 "nbformat": 4,
 "nbformat_minor": 2
}
