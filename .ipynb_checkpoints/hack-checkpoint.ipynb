{
 "cells": [
  {
   "cell_type": "code",
   "execution_count": null,
   "metadata": {
    "collapsed": true
   },
   "outputs": [],
   "source": [
    "import pandas as pd\n",
    "import numpy as np\n",
    "import seaborn as sns\n",
    "import matplotlib.pyplot as plt"
   ]
  },
  {
   "cell_type": "code",
   "execution_count": null,
   "metadata": {
    "collapsed": true
   },
   "outputs": [],
   "source": [
    "df = pd.DataFrame()\n",
    "\n",
    "# Changer le path vers le csv sur votre machine.\n",
    "#'/Users/jeremycoulombe/Desktop/datascapes-2017/VehiclesInCirculation/vehicules-circulation-2016.csv'\n",
    "df = pd.read_csv('/Users/jeremycoulombe/Desktop/datascapes-2017/VehiclesInCirculation/vehicules-circulation-2016.csv')"
   ]
  },
  {
   "cell_type": "code",
   "execution_count": null,
   "metadata": {},
   "outputs": [],
   "source": [
    "df.head(10)"
   ]
  },
  {
   "cell_type": "code",
   "execution_count": null,
   "metadata": {},
   "outputs": [],
   "source": [
    "df.tail(5)"
   ]
  },
  {
   "cell_type": "code",
   "execution_count": null,
   "metadata": {
    "collapsed": true
   },
   "outputs": [],
   "source": [
    "df.drop(['AN', 'NOSEQ_VEH', 'MRC'], 1, inplace=True)"
   ]
  },
  {
   "cell_type": "code",
   "execution_count": null,
   "metadata": {},
   "outputs": [],
   "source": [
    "df.head(6)"
   ]
  },
  {
   "cell_type": "code",
   "execution_count": null,
   "metadata": {
    "collapsed": true
   },
   "outputs": [],
   "source": []
  },
  {
   "cell_type": "code",
   "execution_count": null,
   "metadata": {},
   "outputs": [],
   "source": [
    "df.sort_values(['REG_ADM'], ascending=[True], inplace=True)\n",
    "values= {'NB_CYL': 0,'NB_ESIEU_MAX':0,'CYL_VEH':0,'CYL_VEH':0,'PHYS_SEX':'X', 'PHYS_AGE': 0 }\n",
    "df = df.fillna(values)\n",
    "montreal =df.loc[df['REG_ADM'] == 'Montréal (06)']\n",
    "#montreal montreal.fillna(values)\n",
    "region = df.groupby('REG_ADM') \n",
    "print('cylindre')\n",
    "print(region['NB_CYL'].mean())\n",
    "print('annee modele')\n",
    "#print(montreal['ANNEE_MOD'].mean())\n",
    "print(df['ANNEE_MOD'].mean())\n",
    "print(region['ANNEE_MOD'].mean())\n",
    "print('age')\n",
    "print(region['PHYS_AGE'].mean())\n",
    "#region.apply([region['PHYS_SEX'] =='F'].count())\n",
    "#region.loc['PHYS_SEX'== 'F'].count()\n"
   ]
  },
  {
   "cell_type": "code",
   "execution_count": 31,
   "metadata": {
    "scrolled": true
   },
   "outputs": [
    {
     "name": "stdout",
     "output_type": "stream",
     "text": [
      "Number of women per age Montérégie (16)                       413733\n",
      "Montréal (06)                         296874\n",
      "Capitale-Nationale (03)               186608\n",
      "Laurentides (15)                      175741\n",
      "Lanaudière (14)                       144753\n",
      "Chaudière-Appalaches (12)             124611\n",
      "Outaouais (07)                        104018\n",
      "Laval (13)                             98494\n",
      "Estrie (05)                            89365\n",
      "Saguenay–Lac-Saint-Jean (02)           81382\n",
      "Mauricie (04)                          78704\n",
      "Centre-du-Québec (17)                  72369\n",
      "Bas-Saint-Laurent (01)                 57449\n",
      "Abitibi-Témiscamingue (08)             45267\n",
      "Gaspésie–Îles-de-la-Madeleine (11)     28777\n",
      "Côte-Nord (09)                         26152\n",
      "Nord-du-Québec (10)                     6521\n",
      "Name: REG_ADM, dtype: int64\n",
      "Abitibi-Témiscamingue (08)            0.606307\n",
      "Bas-Saint-Laurent (01)                0.578907\n",
      "Capitale-Nationale (03)               0.520726\n",
      "Centre-du-Québec (17)                 0.540685\n",
      "Chaudière-Appalaches (12)             0.559449\n",
      "Côte-Nord (09)                        0.624867\n",
      "Estrie (05)                           0.550658\n",
      "Gaspésie–Îles-de-la-Madeleine (11)    0.618768\n",
      "Lanaudière (14)                       0.547087\n",
      "Laurentides (15)                      0.537583\n",
      "Laval (13)                            0.517348\n",
      "Mauricie (04)                         0.566355\n",
      "Montréal (06)                         0.513940\n",
      "Montérégie (16)                       0.526760\n",
      "Nord-du-Québec (10)                   0.562751\n",
      "Outaouais (07)                        0.555756\n",
      "Saguenay–Lac-Saint-Jean (02)          0.604411\n",
      "dtype: float64\n"
     ]
    }
   ],
   "source": [
    "df.head(5)\n",
    "print(\"Number of women per age\",df.loc[(df[\"PHYS_SEX\"]==\"F\"),\"REG_ADM\"].value_counts())\n",
    "femme = df.loc[(df[\"PHYS_SEX\"]==\"F\"),\"REG_ADM\"].value_counts()\n",
    "region = df.groupby('REG_ADM') \n",
    "propfemme =  femme / region['PHYS_SEX'].count() \n",
    "\n",
    "#print('femme')\n",
    "#print(propfemme)\n",
    "\n",
    "homme = df.loc[(df[\"PHYS_SEX\"]==\"M\"),\"REG_ADM\"].value_counts()\n",
    "prophomme =  homme / region['PHYS_SEX'].count() \n",
    "\n",
    "print(prophomme)\n",
    "\n"
   ]
  },
  {
   "cell_type": "code",
   "execution_count": null,
   "metadata": {},
   "outputs": [],
   "source": [
    "print(df['REG_ADM'])\n",
    "\n",
    "dfTest2 = pd.DataFrame(prophomme, columns = ['Count'] )\n",
    "#dfTest2"
   ]
  },
  {
   "cell_type": "code",
   "execution_count": 36,
   "metadata": {},
   "outputs": [
    {
     "ename": "ValueError",
     "evalue": "If using all scalar values, you must pass an index",
     "output_type": "error",
     "traceback": [
      "\u001b[0;31m---------------------------------------------------------------------------\u001b[0m",
      "\u001b[0;31mValueError\u001b[0m                                Traceback (most recent call last)",
      "\u001b[0;32m<ipython-input-36-290ed9369a1f>\u001b[0m in \u001b[0;36m<module>\u001b[0;34m()\u001b[0m\n\u001b[1;32m      7\u001b[0m ,  0.604411 : 'Saguenay–Lac-Saint-Jean (02)' }\n\u001b[1;32m      8\u001b[0m \u001b[0;31m#print('homme')\u001b[0m\u001b[0;34m\u001b[0m\u001b[0;34m\u001b[0m\u001b[0m\n\u001b[0;32m----> 9\u001b[0;31m \u001b[0mregion1\u001b[0m \u001b[0;34m=\u001b[0m \u001b[0mpd\u001b[0m\u001b[0;34m.\u001b[0m\u001b[0mDataFrame\u001b[0m\u001b[0;34m(\u001b[0m\u001b[0mdicto\u001b[0m\u001b[0;34m,\u001b[0m  \u001b[0mcolumns\u001b[0m \u001b[0;34m=\u001b[0m \u001b[0;34m[\u001b[0m\u001b[0;34m'region'\u001b[0m\u001b[0;34m]\u001b[0m\u001b[0;34m)\u001b[0m\u001b[0;34m\u001b[0m\u001b[0m\n\u001b[0m\u001b[1;32m     10\u001b[0m \u001b[0;34m\u001b[0m\u001b[0m\n\u001b[1;32m     11\u001b[0m plt.pie(\n",
      "\u001b[0;32m~/anaconda3/lib/python3.6/site-packages/pandas/core/frame.py\u001b[0m in \u001b[0;36m__init__\u001b[0;34m(self, data, index, columns, dtype, copy)\u001b[0m\n\u001b[1;32m    328\u001b[0m                                  dtype=dtype, copy=copy)\n\u001b[1;32m    329\u001b[0m         \u001b[0;32melif\u001b[0m \u001b[0misinstance\u001b[0m\u001b[0;34m(\u001b[0m\u001b[0mdata\u001b[0m\u001b[0;34m,\u001b[0m \u001b[0mdict\u001b[0m\u001b[0;34m)\u001b[0m\u001b[0;34m:\u001b[0m\u001b[0;34m\u001b[0m\u001b[0m\n\u001b[0;32m--> 330\u001b[0;31m             \u001b[0mmgr\u001b[0m \u001b[0;34m=\u001b[0m \u001b[0mself\u001b[0m\u001b[0;34m.\u001b[0m\u001b[0m_init_dict\u001b[0m\u001b[0;34m(\u001b[0m\u001b[0mdata\u001b[0m\u001b[0;34m,\u001b[0m \u001b[0mindex\u001b[0m\u001b[0;34m,\u001b[0m \u001b[0mcolumns\u001b[0m\u001b[0;34m,\u001b[0m \u001b[0mdtype\u001b[0m\u001b[0;34m=\u001b[0m\u001b[0mdtype\u001b[0m\u001b[0;34m)\u001b[0m\u001b[0;34m\u001b[0m\u001b[0m\n\u001b[0m\u001b[1;32m    331\u001b[0m         \u001b[0;32melif\u001b[0m \u001b[0misinstance\u001b[0m\u001b[0;34m(\u001b[0m\u001b[0mdata\u001b[0m\u001b[0;34m,\u001b[0m \u001b[0mma\u001b[0m\u001b[0;34m.\u001b[0m\u001b[0mMaskedArray\u001b[0m\u001b[0;34m)\u001b[0m\u001b[0;34m:\u001b[0m\u001b[0;34m\u001b[0m\u001b[0m\n\u001b[1;32m    332\u001b[0m             \u001b[0;32mimport\u001b[0m \u001b[0mnumpy\u001b[0m\u001b[0;34m.\u001b[0m\u001b[0mma\u001b[0m\u001b[0;34m.\u001b[0m\u001b[0mmrecords\u001b[0m \u001b[0;32mas\u001b[0m \u001b[0mmrecords\u001b[0m\u001b[0;34m\u001b[0m\u001b[0m\n",
      "\u001b[0;32m~/anaconda3/lib/python3.6/site-packages/pandas/core/frame.py\u001b[0m in \u001b[0;36m_init_dict\u001b[0;34m(self, data, index, columns, dtype)\u001b[0m\n\u001b[1;32m    417\u001b[0m             \u001b[0;31m# raise ValueError if only scalars in dict\u001b[0m\u001b[0;34m\u001b[0m\u001b[0;34m\u001b[0m\u001b[0m\n\u001b[1;32m    418\u001b[0m             \u001b[0;32mif\u001b[0m \u001b[0mindex\u001b[0m \u001b[0;32mis\u001b[0m \u001b[0;32mNone\u001b[0m\u001b[0;34m:\u001b[0m\u001b[0;34m\u001b[0m\u001b[0m\n\u001b[0;32m--> 419\u001b[0;31m                 \u001b[0mextract_index\u001b[0m\u001b[0;34m(\u001b[0m\u001b[0mlist\u001b[0m\u001b[0;34m(\u001b[0m\u001b[0mdata\u001b[0m\u001b[0;34m.\u001b[0m\u001b[0mvalues\u001b[0m\u001b[0;34m(\u001b[0m\u001b[0;34m)\u001b[0m\u001b[0;34m)\u001b[0m\u001b[0;34m)\u001b[0m\u001b[0;34m\u001b[0m\u001b[0m\n\u001b[0m\u001b[1;32m    420\u001b[0m \u001b[0;34m\u001b[0m\u001b[0m\n\u001b[1;32m    421\u001b[0m             \u001b[0;31m# prefilter if columns passed\u001b[0m\u001b[0;34m\u001b[0m\u001b[0;34m\u001b[0m\u001b[0m\n",
      "\u001b[0;32m~/anaconda3/lib/python3.6/site-packages/pandas/core/frame.py\u001b[0m in \u001b[0;36mextract_index\u001b[0;34m(data)\u001b[0m\n\u001b[1;32m   6167\u001b[0m \u001b[0;34m\u001b[0m\u001b[0m\n\u001b[1;32m   6168\u001b[0m         \u001b[0;32mif\u001b[0m \u001b[0;32mnot\u001b[0m \u001b[0mindexes\u001b[0m \u001b[0;32mand\u001b[0m \u001b[0;32mnot\u001b[0m \u001b[0mraw_lengths\u001b[0m\u001b[0;34m:\u001b[0m\u001b[0;34m\u001b[0m\u001b[0m\n\u001b[0;32m-> 6169\u001b[0;31m             raise ValueError('If using all scalar values, you must pass'\n\u001b[0m\u001b[1;32m   6170\u001b[0m                              ' an index')\n\u001b[1;32m   6171\u001b[0m \u001b[0;34m\u001b[0m\u001b[0m\n",
      "\u001b[0;31mValueError\u001b[0m: If using all scalar values, you must pass an index"
     ]
    }
   ],
   "source": [
    "colors1 = [\"#E13F29\", \"#D69A80\", \"#E00B59\", \"#AE5552\", \"#CB5C3B\", \"#EB8076\", \"#96624E\"]\n",
    "\n",
    "dicto= {0.606307:\"Abitibi-Témiscamingue (08)\",0.578907 : 'Bas-Saint-Laurent (01)',0.520726 : 'Capitale-Nationale (03)',  \n",
    "0.540685:'Centre-du-Québec (17) ', 0.559449 : 'Chaudière-Appalaches (12)',0.624867: 'Côte-Nord (09)', 0.550658: 'Estrie (05)',\n",
    "0.618768: 'Gaspésie–Îles-de-la-Madeleine (11)',0.547087: 'Lanaudière (14)', 0.537583 : 'Laurentides (15)',0.517348 : 'Laval (13)',  \n",
    "0.566355 : 'Mauricie (04)', 0.513940 : 'Montréal (06)', 0.526760: 'Montérégie (16)', 0.562751: 'Nord-du-Québec (10)', 0.555756 : 'Outaouais (07)'\n",
    ",  0.604411 : 'Saguenay–Lac-Saint-Jean (02)' }\n",
    "#print('homme')\n",
    "region1 = pd.DataFrame(dicto,  columns = ['region'])\n",
    "\n",
    "plt.pie(\n",
    "    # using data total)arrests\n",
    "    dfTest2['Count'],\n",
    "    \n",
    "    region1['region'],\n",
    "    # with the labels being officer names\n",
    "    # with no shadows\n",
    "    shadow=False,\n",
    "    # with colors\n",
    "    colors=colors1,\n",
    "    )\n",
    "plt.axis('equal')\n",
    "\n",
    "# View the plot\n",
    "plt.tight_layout()\n",
    "plt.show()\n"
   ]
  },
  {
   "cell_type": "code",
   "execution_count": null,
   "metadata": {},
   "outputs": [],
   "source": [
    "print(\"4 cylindres\")\n",
    "cylindre4 = df.loc[(df[\"NB_CYL\"]==4),\"REG_ADM\"].value_counts()\n",
    "total = region['NB_CYL'].count()\n",
    "print(cylindre4)\n",
    "print('ratio')\n",
    "print(cylindre4/total)\n"
   ]
  },
  {
   "cell_type": "code",
   "execution_count": null,
   "metadata": {},
   "outputs": [],
   "source": [
    "print(\"1 cylindres\")\n",
    "cylindre1 = df.loc[(df[\"NB_CYL\"]==1),\"REG_ADM\"].value_counts()\n",
    "print(cylindre1)\n",
    "print('ratio')\n",
    "print(cylindre1/total)\n"
   ]
  },
  {
   "cell_type": "code",
   "execution_count": null,
   "metadata": {},
   "outputs": [],
   "source": [
    "print(\"2 cylindres\")\n",
    "cylindre2 = df.loc[(df[\"NB_CYL\"]==2),\"REG_ADM\"].value_counts()\n",
    "\n",
    "print(cylindre2)\n",
    "\n",
    "print(cylindre2/total)\n"
   ]
  },
  {
   "cell_type": "code",
   "execution_count": null,
   "metadata": {},
   "outputs": [],
   "source": [
    "print(\"3 cylindres\")\n",
    "cylindre3 = df.loc[(df[\"NB_CYL\"]==3),\"REG_ADM\"].value_counts()\n",
    "\n",
    "print(cylindre3)\n",
    "\n",
    "print('ratio')\n",
    "print(cylindre3/total)\n",
    "\n"
   ]
  },
  {
   "cell_type": "code",
   "execution_count": null,
   "metadata": {},
   "outputs": [],
   "source": [
    "print(\"5 cylindres\")\n",
    "cylindre5 = df.loc[(df[\"NB_CYL\"]==5),\"REG_ADM\"].value_counts()\n",
    "print(cylindre5)\n",
    "print('ratio')\n",
    "print(cylindre5/total)"
   ]
  },
  {
   "cell_type": "code",
   "execution_count": null,
   "metadata": {},
   "outputs": [],
   "source": [
    "print(\"6 cylindres\")\n",
    "cylindre6 = df.loc[(df[\"NB_CYL\"]==6),\"REG_ADM\"].value_counts()\n",
    "print(cylindre6)\n",
    "print('ratio')\n",
    "print(cylindre6/total)"
   ]
  },
  {
   "cell_type": "code",
   "execution_count": null,
   "metadata": {},
   "outputs": [],
   "source": [
    "print(\"7 cylindres\")\n",
    "cylindre7 = df.loc[(df[\"NB_CYL\"]== 7),\"REG_ADM\"].value_counts()\n",
    "\n",
    "print(cylindre7)\n",
    "\n",
    "print('ratio')\n",
    "print(cylindre7/total)"
   ]
  },
  {
   "cell_type": "code",
   "execution_count": null,
   "metadata": {},
   "outputs": [],
   "source": [
    "print(\"8 cylindres\")\n",
    "cylindre8 = df.loc[(df[\"NB_CYL\"]==8),\"REG_ADM\"].value_counts()\n",
    "\n",
    "print(cylindre8)\n",
    "\n",
    "print('ratio')\n",
    "print(cylindre8/total)"
   ]
  },
  {
   "cell_type": "code",
   "execution_count": null,
   "metadata": {},
   "outputs": [],
   "source": [
    "print(\"plus de 8 cylindres\")\n",
    "\n",
    "cylindreplus8 = df.loc[(df[\"NB_CYL\"]==9),\"REG_ADM\"].value_counts()\n",
    "\n",
    "print(cylindreplus8)\n",
    "\n",
    "print('ratio')\n",
    "print(cylindreplus8/total)\n"
   ]
  },
  {
   "cell_type": "code",
   "execution_count": null,
   "metadata": {
    "scrolled": true
   },
   "outputs": [],
   "source": [
    "print(\"pas d'information\")\n",
    "pasdevaleur= df.loc[(df[\"NB_CYL\"]==0),\"REG_ADM\"].value_counts()\n",
    "\n",
    "print(pasdevaleur)\n",
    "\n",
    "print('ratio')\n",
    "print(pasdevaleur/total)"
   ]
  },
  {
   "cell_type": "code",
   "execution_count": null,
   "metadata": {},
   "outputs": [],
   "source": [
    "morale = df.loc[(df[\"TYP_DOSS_PERS\"]=='M'),\"REG_ADM\"].value_counts()\n",
    "print(morale)\n",
    "totaltype = region['TYP_DOSS_PERS'].count()\n",
    "\n",
    "proportionMorale =  morale/totaltype\n",
    "print('proportion')\n",
    "print(proportionMorale)\n"
   ]
  },
  {
   "cell_type": "code",
   "execution_count": null,
   "metadata": {},
   "outputs": [],
   "source": [
    "dict_clas = {\"PAU\" : \"Automobile ou camion léger\", \"PMC\":\"Motocyclette\", \"PCY\":\"Cyclomoteur\", \n",
    "             \"PHM\" : \"Habitation motorisée\", \"CAU\":\"Automobile ou camion léger\", \"CMC\":\"Motocyclette\", \"CCY\":\"Cyclomoteur\",\n",
    "              \"CHM\":\"Habitation motorisée\", \"TTA\":\"Taxi\", \"TAB\":\"Autobus\", \"TAS\":\"Autobus scolaire\", \n",
    "              \"BCA\":\"Camion ou tracteur routier\", \"CVO\":\"Véhicule-outil\", \"COT\":\"Autres\"}\n",
    "df[\"CLAS\"].replace(dict_clas, inplace =True )\n",
    "\n",
    "dict_typ_veh = {\"AB\": \"Autobus\",\"AT\": \"Aucun type spécifique\", \"AU\":\"Automobile ou camion léger\",\n",
    "                \"CA\":\"Camion ou tracteur routier\", \"CY\":\"Cyclomoteur\", \"HM\":\"Habitation motorisée\",\n",
    "               \"MN\":\"Motoneige\", \"NV\": \"Autres véhicules hors route\", \"SN\":\"Souffleuse à neige\", \"VO\":\"Véhicule-outil\",\n",
    "               \"VT\":\"Véhicule tout-terrain\"}\n",
    "df[\"TYP_VEH_CATEG_USA\"].replace(dict_typ_veh, inplace=True)\n",
    "df[\"TYP_VEH_CATEG_USA\"].head()\n"
   ]
  },
  {
   "cell_type": "code",
   "execution_count": null,
   "metadata": {},
   "outputs": [],
   "source": [
    "df.loc[(df[\"PHYS_AGE\"]>0)].min()"
   ]
  }
 ],
 "metadata": {
  "kernelspec": {
   "display_name": "Python 3",
   "language": "python",
   "name": "python3"
  },
  "language_info": {
   "codemirror_mode": {
    "name": "ipython",
    "version": 3
   },
   "file_extension": ".py",
   "mimetype": "text/x-python",
   "name": "python",
   "nbconvert_exporter": "python",
   "pygments_lexer": "ipython3",
   "version": "3.6.3"
  }
 },
 "nbformat": 4,
 "nbformat_minor": 2
}
