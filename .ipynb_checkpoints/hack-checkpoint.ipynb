{
 "cells": [
  {
   "cell_type": "code",
   "execution_count": null,
   "metadata": {
    "collapsed": true
   },
   "outputs": [],
   "source": [
    "import pandas as pd\n",
    "import numpy as np\n",
    "import seaborn as sns\n",
    "import matplotlib.pyplot as plt"
   ]
  },
  {
   "cell_type": "code",
   "execution_count": null,
   "metadata": {
    "collapsed": true
   },
   "outputs": [],
   "source": [
    "df = pd.DataFrame()\n",
    "\n",
    "# Changer le path vers le csv sur votre machine.\n",
    "#'/Users/jeremycoulombe/Desktop/datascapes-2017/VehiclesInCirculation/vehicules-circulation-2016.csv'\n",
    "df = pd.read_csv('/Users/jeremycoulombe/Desktop/datascapes-2017/VehiclesInCirculation/vehicules-circulation-2016.csv')"
   ]
  },
  {
   "cell_type": "code",
   "execution_count": null,
   "metadata": {},
   "outputs": [],
   "source": [
    "df.head(10)"
   ]
  },
  {
   "cell_type": "code",
   "execution_count": null,
   "metadata": {},
   "outputs": [],
   "source": [
    "df.tail(5)"
   ]
  },
  {
   "cell_type": "code",
   "execution_count": null,
   "metadata": {
    "collapsed": true
   },
   "outputs": [],
   "source": [
    "df.drop(['AN', 'NOSEQ_VEH', 'MRC'], 1, inplace=True)"
   ]
  },
  {
   "cell_type": "code",
   "execution_count": null,
   "metadata": {},
   "outputs": [],
   "source": [
    "df.head(6)"
   ]
  },
  {
   "cell_type": "code",
   "execution_count": null,
   "metadata": {
    "collapsed": true
   },
   "outputs": [],
   "source": []
  },
  {
   "cell_type": "code",
   "execution_count": null,
   "metadata": {},
   "outputs": [],
   "source": [
    "df.sort_values(['REG_ADM'], ascending=[True], inplace=True)\n",
    "values= {'NB_CYL': 0,'NB_ESIEU_MAX':0,'CYL_VEH':0,'CYL_VEH':0,'PHYS_SEX':'X', 'PHYS_AGE': 0 }\n",
    "df = df.fillna(values)\n",
    "montreal =df.loc[df['REG_ADM'] == 'Montréal (06)']\n",
    "#montreal montreal.fillna(values)\n",
    "region = df.groupby('REG_ADM') \n",
    "print('cylindre')\n",
    "print(region['NB_CYL'].mean())\n",
    "print('annee modele')\n",
    "#print(montreal['ANNEE_MOD'].mean())\n",
    "print(df['ANNEE_MOD'].mean())\n",
    "print(region['ANNEE_MOD'].mean())\n",
    "print('age')\n",
    "print(region['PHYS_AGE'].mean())\n",
    "#region.apply([region['PHYS_SEX'] =='F'].count())\n",
    "#region.loc['PHYS_SEX'== 'F'].count()\n"
   ]
  },
  {
   "cell_type": "code",
   "execution_count": 27,
   "metadata": {
    "scrolled": true
   },
   "outputs": [
    {
     "name": "stdout",
     "output_type": "stream",
     "text": [
      "Number of women per age Montérégie (16)                       413733\n",
      "Montréal (06)                         296874\n",
      "Capitale-Nationale (03)               186608\n",
      "Laurentides (15)                      175741\n",
      "Lanaudière (14)                       144753\n",
      "Chaudière-Appalaches (12)             124611\n",
      "Outaouais (07)                        104018\n",
      "Laval (13)                             98494\n",
      "Estrie (05)                            89365\n",
      "Saguenay–Lac-Saint-Jean (02)           81382\n",
      "Mauricie (04)                          78704\n",
      "Centre-du-Québec (17)                  72369\n",
      "Bas-Saint-Laurent (01)                 57449\n",
      "Abitibi-Témiscamingue (08)             45267\n",
      "Gaspésie–Îles-de-la-Madeleine (11)     28777\n",
      "Côte-Nord (09)                         26152\n",
      "Nord-du-Québec (10)                     6521\n",
      "Name: REG_ADM, dtype: int64\n",
      "femme\n",
      "Abitibi-Témiscamingue (08)            0.256658\n",
      "Bas-Saint-Laurent (01)                0.274761\n",
      "Capitale-Nationale (03)               0.319095\n",
      "Centre-du-Québec (17)                 0.299493\n",
      "Chaudière-Appalaches (12)             0.290817\n",
      "Côte-Nord (09)                        0.265392\n",
      "Estrie (05)                           0.322016\n",
      "Gaspésie–Îles-de-la-Madeleine (11)    0.282474\n",
      "Lanaudière (14)                       0.334167\n",
      "Laurentides (15)                      0.343600\n",
      "Laval (13)                            0.341046\n",
      "Mauricie (04)                         0.325720\n",
      "Montréal (06)                         0.311670\n",
      "Montérégie (16)                       0.336858\n",
      "Nord-du-Québec (10)                   0.249283\n",
      "Outaouais (07)                        0.344949\n",
      "Saguenay–Lac-Saint-Jean (02)          0.281518\n",
      "dtype: float64\n",
      "homme\n",
      "Abitibi-Témiscamingue (08)            0.606307\n",
      "Bas-Saint-Laurent (01)                0.578907\n",
      "Capitale-Nationale (03)               0.520726\n",
      "Centre-du-Québec (17)                 0.540685\n",
      "Chaudière-Appalaches (12)             0.559449\n",
      "Côte-Nord (09)                        0.624867\n",
      "Estrie (05)                           0.550658\n",
      "Gaspésie–Îles-de-la-Madeleine (11)    0.618768\n",
      "Lanaudière (14)                       0.547087\n",
      "Laurentides (15)                      0.537583\n",
      "Laval (13)                            0.517348\n",
      "Mauricie (04)                         0.566355\n",
      "Montréal (06)                         0.513940\n",
      "Montérégie (16)                       0.526760\n",
      "Nord-du-Québec (10)                   0.562751\n",
      "Outaouais (07)                        0.555756\n",
      "Saguenay–Lac-Saint-Jean (02)          0.604411\n",
      "dtype: float64\n"
     ]
    },
    {
     "ename": "TypeError",
     "evalue": "'DataFrame' objects are mutable, thus they cannot be hashed",
     "output_type": "error",
     "traceback": [
      "\u001b[0;31m---------------------------------------------------------------------------\u001b[0m",
      "\u001b[0;31mTypeError\u001b[0m                                 Traceback (most recent call last)",
      "\u001b[0;32m<ipython-input-27-f6e395ca1336>\u001b[0m in \u001b[0;36m<module>\u001b[0;34m()\u001b[0m\n\u001b[1;32m     14\u001b[0m \u001b[0mprint\u001b[0m\u001b[0;34m(\u001b[0m\u001b[0mprophomme\u001b[0m\u001b[0;34m)\u001b[0m\u001b[0;34m\u001b[0m\u001b[0m\n\u001b[1;32m     15\u001b[0m \u001b[0;34m\u001b[0m\u001b[0m\n\u001b[0;32m---> 16\u001b[0;31m \u001b[0mdfTest2\u001b[0m \u001b[0;34m=\u001b[0m \u001b[0mpd\u001b[0m\u001b[0;34m.\u001b[0m\u001b[0mDataFrame\u001b[0m\u001b[0;34m(\u001b[0m\u001b[0mprophomme\u001b[0m\u001b[0;34m,\u001b[0m\u001b[0mregion\u001b[0m\u001b[0;34m,\u001b[0m \u001b[0mcolumns\u001b[0m \u001b[0;34m=\u001b[0m \u001b[0;34m[\u001b[0m\u001b[0;34m'Count'\u001b[0m\u001b[0;34m,\u001b[0m\u001b[0;34m'region'\u001b[0m\u001b[0;34m]\u001b[0m \u001b[0;34m)\u001b[0m\u001b[0;34m\u001b[0m\u001b[0m\n\u001b[0m\u001b[1;32m     17\u001b[0m \u001b[0mdfTest2\u001b[0m\u001b[0;34m\u001b[0m\u001b[0m\n",
      "\u001b[0;32m~/anaconda3/lib/python3.6/site-packages/pandas/core/frame.py\u001b[0m in \u001b[0;36m__init__\u001b[0;34m(self, data, index, columns, dtype, copy)\u001b[0m\n\u001b[1;32m    359\u001b[0m             \u001b[0;32melse\u001b[0m\u001b[0;34m:\u001b[0m\u001b[0;34m\u001b[0m\u001b[0m\n\u001b[1;32m    360\u001b[0m                 mgr = self._init_ndarray(data, index, columns, dtype=dtype,\n\u001b[0;32m--> 361\u001b[0;31m                                          copy=copy)\n\u001b[0m\u001b[1;32m    362\u001b[0m         \u001b[0;32melif\u001b[0m \u001b[0misinstance\u001b[0m\u001b[0;34m(\u001b[0m\u001b[0mdata\u001b[0m\u001b[0;34m,\u001b[0m \u001b[0;34m(\u001b[0m\u001b[0mlist\u001b[0m\u001b[0;34m,\u001b[0m \u001b[0mtypes\u001b[0m\u001b[0;34m.\u001b[0m\u001b[0mGeneratorType\u001b[0m\u001b[0;34m)\u001b[0m\u001b[0;34m)\u001b[0m\u001b[0;34m:\u001b[0m\u001b[0;34m\u001b[0m\u001b[0m\n\u001b[1;32m    363\u001b[0m             \u001b[0;32mif\u001b[0m \u001b[0misinstance\u001b[0m\u001b[0;34m(\u001b[0m\u001b[0mdata\u001b[0m\u001b[0;34m,\u001b[0m \u001b[0mtypes\u001b[0m\u001b[0;34m.\u001b[0m\u001b[0mGeneratorType\u001b[0m\u001b[0;34m)\u001b[0m\u001b[0;34m:\u001b[0m\u001b[0;34m\u001b[0m\u001b[0m\n",
      "\u001b[0;32m~/anaconda3/lib/python3.6/site-packages/pandas/core/frame.py\u001b[0m in \u001b[0;36m_init_ndarray\u001b[0;34m(self, values, index, columns, dtype, copy)\u001b[0m\n\u001b[1;32m    471\u001b[0m                 \u001b[0mindex\u001b[0m \u001b[0;34m=\u001b[0m \u001b[0mvalues\u001b[0m\u001b[0;34m.\u001b[0m\u001b[0mindex\u001b[0m\u001b[0;34m\u001b[0m\u001b[0m\n\u001b[1;32m    472\u001b[0m             \u001b[0;32melse\u001b[0m\u001b[0;34m:\u001b[0m\u001b[0;34m\u001b[0m\u001b[0m\n\u001b[0;32m--> 473\u001b[0;31m                 \u001b[0mvalues\u001b[0m \u001b[0;34m=\u001b[0m \u001b[0mvalues\u001b[0m\u001b[0;34m.\u001b[0m\u001b[0mreindex\u001b[0m\u001b[0;34m(\u001b[0m\u001b[0mindex\u001b[0m\u001b[0;34m)\u001b[0m\u001b[0;34m\u001b[0m\u001b[0m\n\u001b[0m\u001b[1;32m    474\u001b[0m \u001b[0;34m\u001b[0m\u001b[0m\n\u001b[1;32m    475\u001b[0m             \u001b[0;31m# zero len case (GH #2234)\u001b[0m\u001b[0;34m\u001b[0m\u001b[0;34m\u001b[0m\u001b[0m\n",
      "\u001b[0;32m~/anaconda3/lib/python3.6/site-packages/pandas/core/series.py\u001b[0m in \u001b[0;36mreindex\u001b[0;34m(self, index, **kwargs)\u001b[0m\n\u001b[1;32m   2638\u001b[0m     \u001b[0;34m@\u001b[0m\u001b[0mAppender\u001b[0m\u001b[0;34m(\u001b[0m\u001b[0mgeneric\u001b[0m\u001b[0;34m.\u001b[0m\u001b[0m_shared_docs\u001b[0m\u001b[0;34m[\u001b[0m\u001b[0;34m'reindex'\u001b[0m\u001b[0;34m]\u001b[0m \u001b[0;34m%\u001b[0m \u001b[0m_shared_doc_kwargs\u001b[0m\u001b[0;34m)\u001b[0m\u001b[0;34m\u001b[0m\u001b[0m\n\u001b[1;32m   2639\u001b[0m     \u001b[0;32mdef\u001b[0m \u001b[0mreindex\u001b[0m\u001b[0;34m(\u001b[0m\u001b[0mself\u001b[0m\u001b[0;34m,\u001b[0m \u001b[0mindex\u001b[0m\u001b[0;34m=\u001b[0m\u001b[0;32mNone\u001b[0m\u001b[0;34m,\u001b[0m \u001b[0;34m**\u001b[0m\u001b[0mkwargs\u001b[0m\u001b[0;34m)\u001b[0m\u001b[0;34m:\u001b[0m\u001b[0;34m\u001b[0m\u001b[0m\n\u001b[0;32m-> 2640\u001b[0;31m         \u001b[0;32mreturn\u001b[0m \u001b[0msuper\u001b[0m\u001b[0;34m(\u001b[0m\u001b[0mSeries\u001b[0m\u001b[0;34m,\u001b[0m \u001b[0mself\u001b[0m\u001b[0;34m)\u001b[0m\u001b[0;34m.\u001b[0m\u001b[0mreindex\u001b[0m\u001b[0;34m(\u001b[0m\u001b[0mindex\u001b[0m\u001b[0;34m=\u001b[0m\u001b[0mindex\u001b[0m\u001b[0;34m,\u001b[0m \u001b[0;34m**\u001b[0m\u001b[0mkwargs\u001b[0m\u001b[0;34m)\u001b[0m\u001b[0;34m\u001b[0m\u001b[0m\n\u001b[0m\u001b[1;32m   2641\u001b[0m \u001b[0;34m\u001b[0m\u001b[0m\n\u001b[1;32m   2642\u001b[0m     \u001b[0;34m@\u001b[0m\u001b[0mAppender\u001b[0m\u001b[0;34m(\u001b[0m\u001b[0mgeneric\u001b[0m\u001b[0;34m.\u001b[0m\u001b[0m_shared_docs\u001b[0m\u001b[0;34m[\u001b[0m\u001b[0;34m'fillna'\u001b[0m\u001b[0;34m]\u001b[0m \u001b[0;34m%\u001b[0m \u001b[0m_shared_doc_kwargs\u001b[0m\u001b[0;34m)\u001b[0m\u001b[0;34m\u001b[0m\u001b[0m\n",
      "\u001b[0;32m~/anaconda3/lib/python3.6/site-packages/pandas/core/generic.py\u001b[0m in \u001b[0;36mreindex\u001b[0;34m(self, *args, **kwargs)\u001b[0m\n\u001b[1;32m   3021\u001b[0m         \u001b[0;31m# perform the reindex on the axes\u001b[0m\u001b[0;34m\u001b[0m\u001b[0;34m\u001b[0m\u001b[0m\n\u001b[1;32m   3022\u001b[0m         return self._reindex_axes(axes, level, limit, tolerance, method,\n\u001b[0;32m-> 3023\u001b[0;31m                                   fill_value, copy).__finalize__(self)\n\u001b[0m\u001b[1;32m   3024\u001b[0m \u001b[0;34m\u001b[0m\u001b[0m\n\u001b[1;32m   3025\u001b[0m     def _reindex_axes(self, axes, level, limit, tolerance, method, fill_value,\n",
      "\u001b[0;32m~/anaconda3/lib/python3.6/site-packages/pandas/core/generic.py\u001b[0m in \u001b[0;36m_reindex_axes\u001b[0;34m(self, axes, level, limit, tolerance, method, fill_value, copy)\u001b[0m\n\u001b[1;32m   3034\u001b[0m             \u001b[0max\u001b[0m \u001b[0;34m=\u001b[0m \u001b[0mself\u001b[0m\u001b[0;34m.\u001b[0m\u001b[0m_get_axis\u001b[0m\u001b[0;34m(\u001b[0m\u001b[0ma\u001b[0m\u001b[0;34m)\u001b[0m\u001b[0;34m\u001b[0m\u001b[0m\n\u001b[1;32m   3035\u001b[0m             new_index, indexer = ax.reindex(labels, level=level, limit=limit,\n\u001b[0;32m-> 3036\u001b[0;31m                                             tolerance=tolerance, method=method)\n\u001b[0m\u001b[1;32m   3037\u001b[0m \u001b[0;34m\u001b[0m\u001b[0m\n\u001b[1;32m   3038\u001b[0m             \u001b[0maxis\u001b[0m \u001b[0;34m=\u001b[0m \u001b[0mself\u001b[0m\u001b[0;34m.\u001b[0m\u001b[0m_get_axis_number\u001b[0m\u001b[0;34m(\u001b[0m\u001b[0ma\u001b[0m\u001b[0;34m)\u001b[0m\u001b[0;34m\u001b[0m\u001b[0m\n",
      "\u001b[0;32m~/anaconda3/lib/python3.6/site-packages/pandas/core/indexes/base.py\u001b[0m in \u001b[0;36mreindex\u001b[0;34m(self, target, method, level, limit, tolerance)\u001b[0m\n\u001b[1;32m   2985\u001b[0m                     indexer = self.get_indexer(target, method=method,\n\u001b[1;32m   2986\u001b[0m                                                \u001b[0mlimit\u001b[0m\u001b[0;34m=\u001b[0m\u001b[0mlimit\u001b[0m\u001b[0;34m,\u001b[0m\u001b[0;34m\u001b[0m\u001b[0m\n\u001b[0;32m-> 2987\u001b[0;31m                                                tolerance=tolerance)\n\u001b[0m\u001b[1;32m   2988\u001b[0m                 \u001b[0;32melse\u001b[0m\u001b[0;34m:\u001b[0m\u001b[0;34m\u001b[0m\u001b[0m\n\u001b[1;32m   2989\u001b[0m                     \u001b[0;32mif\u001b[0m \u001b[0mmethod\u001b[0m \u001b[0;32mis\u001b[0m \u001b[0;32mnot\u001b[0m \u001b[0;32mNone\u001b[0m \u001b[0;32mor\u001b[0m \u001b[0mlimit\u001b[0m \u001b[0;32mis\u001b[0m \u001b[0;32mnot\u001b[0m \u001b[0;32mNone\u001b[0m\u001b[0;34m:\u001b[0m\u001b[0;34m\u001b[0m\u001b[0m\n",
      "\u001b[0;32m~/anaconda3/lib/python3.6/site-packages/pandas/core/indexes/base.py\u001b[0m in \u001b[0;36mget_indexer\u001b[0;34m(self, target, method, limit, tolerance)\u001b[0m\n\u001b[1;32m   2697\u001b[0m                                  'backfill or nearest reindexing')\n\u001b[1;32m   2698\u001b[0m \u001b[0;34m\u001b[0m\u001b[0m\n\u001b[0;32m-> 2699\u001b[0;31m             \u001b[0mindexer\u001b[0m \u001b[0;34m=\u001b[0m \u001b[0mself\u001b[0m\u001b[0;34m.\u001b[0m\u001b[0m_engine\u001b[0m\u001b[0;34m.\u001b[0m\u001b[0mget_indexer\u001b[0m\u001b[0;34m(\u001b[0m\u001b[0mtarget\u001b[0m\u001b[0;34m.\u001b[0m\u001b[0m_values\u001b[0m\u001b[0;34m)\u001b[0m\u001b[0;34m\u001b[0m\u001b[0m\n\u001b[0m\u001b[1;32m   2700\u001b[0m \u001b[0;34m\u001b[0m\u001b[0m\n\u001b[1;32m   2701\u001b[0m         \u001b[0;32mreturn\u001b[0m \u001b[0m_ensure_platform_int\u001b[0m\u001b[0;34m(\u001b[0m\u001b[0mindexer\u001b[0m\u001b[0;34m)\u001b[0m\u001b[0;34m\u001b[0m\u001b[0m\n",
      "\u001b[0;32mpandas/_libs/index.pyx\u001b[0m in \u001b[0;36mpandas._libs.index.IndexEngine.get_indexer\u001b[0;34m()\u001b[0m\n",
      "\u001b[0;32mpandas/_libs/hashtable_class_helper.pxi\u001b[0m in \u001b[0;36mpandas._libs.hashtable.PyObjectHashTable.lookup\u001b[0;34m()\u001b[0m\n",
      "\u001b[0;32m~/anaconda3/lib/python3.6/site-packages/pandas/core/generic.py\u001b[0m in \u001b[0;36m__hash__\u001b[0;34m(self)\u001b[0m\n\u001b[1;32m   1043\u001b[0m     \u001b[0;32mdef\u001b[0m \u001b[0m__hash__\u001b[0m\u001b[0;34m(\u001b[0m\u001b[0mself\u001b[0m\u001b[0;34m)\u001b[0m\u001b[0;34m:\u001b[0m\u001b[0;34m\u001b[0m\u001b[0m\n\u001b[1;32m   1044\u001b[0m         raise TypeError('{0!r} objects are mutable, thus they cannot be'\n\u001b[0;32m-> 1045\u001b[0;31m                         ' hashed'.format(self.__class__.__name__))\n\u001b[0m\u001b[1;32m   1046\u001b[0m \u001b[0;34m\u001b[0m\u001b[0m\n\u001b[1;32m   1047\u001b[0m     \u001b[0;32mdef\u001b[0m \u001b[0m__iter__\u001b[0m\u001b[0;34m(\u001b[0m\u001b[0mself\u001b[0m\u001b[0;34m)\u001b[0m\u001b[0;34m:\u001b[0m\u001b[0;34m\u001b[0m\u001b[0m\n",
      "\u001b[0;31mTypeError\u001b[0m: 'DataFrame' objects are mutable, thus they cannot be hashed"
     ]
    }
   ],
   "source": [
    "df.head(5)\n",
    "print(\"Number of women per age\",df.loc[(df[\"PHYS_SEX\"]==\"F\"),\"REG_ADM\"].value_counts())\n",
    "femme = df.loc[(df[\"PHYS_SEX\"]==\"F\"),\"REG_ADM\"].value_counts()\n",
    "region = df.groupby('REG_ADM') \n",
    "propfemme =  femme / region['PHYS_SEX'].count() \n",
    "\n",
    "print('femme')\n",
    "print(propfemme)\n",
    "\n",
    "homme = df.loc[(df[\"PHYS_SEX\"]==\"M\"),\"REG_ADM\"].value_counts()\n",
    "prophomme =  homme / region['PHYS_SEX'].count() \n",
    "\n",
    "print('homme')\n",
    "print(prophomme)\n",
    "print(df['REG_ADM'])\n",
    "\n",
    "dfTest2 = pd.DataFrame(prophomme, columns = ['Count','region'] )\n",
    "dfTest2\n"
   ]
  },
  {
   "cell_type": "code",
   "execution_count": 23,
   "metadata": {},
   "outputs": [
    {
     "name": "stderr",
     "output_type": "stream",
     "text": [
      "IOPub data rate exceeded.\n",
      "The notebook server will temporarily stop sending output\n",
      "to the client in order to avoid crashing it.\n",
      "To change this limit, set the config variable\n",
      "`--NotebookApp.iopub_data_rate_limit`.\n"
     ]
    }
   ],
   "source": [
    "colors1 = [\"#E13F29\", \"#D69A80\", \"#E00B59\", \"#AE5552\", \"#CB5C3B\", \"#EB8076\", \"#96624E\"]\n",
    "plt.pie(\n",
    "    # using data total)arrests\n",
    "    prophomme,\n",
    "    # with the labels being officer names\n",
    "    labels=region,\n",
    "    # with no shadows\n",
    "    shadow=False,\n",
    "    # with colors\n",
    "    colors=colors1,\n",
    "    )\n",
    "plt.axis('equal')\n",
    "\n",
    "# View the plot\n",
    "plt.tight_layout()\n",
    "plt.show()\n"
   ]
  },
  {
   "cell_type": "code",
   "execution_count": null,
   "metadata": {},
   "outputs": [],
   "source": [
    "print(\"4 cylindres\")\n",
    "cylindre4 = df.loc[(df[\"NB_CYL\"]==4),\"REG_ADM\"].value_counts()\n",
    "total = region['NB_CYL'].count()\n",
    "print(cylindre4)\n",
    "print('ratio')\n",
    "print(cylindre4/total)\n"
   ]
  },
  {
   "cell_type": "code",
   "execution_count": null,
   "metadata": {},
   "outputs": [],
   "source": [
    "print(\"1 cylindres\")\n",
    "cylindre1 = df.loc[(df[\"NB_CYL\"]==1),\"REG_ADM\"].value_counts()\n",
    "print(cylindre1)\n",
    "print('ratio')\n",
    "print(cylindre1/total)\n"
   ]
  },
  {
   "cell_type": "code",
   "execution_count": null,
   "metadata": {},
   "outputs": [],
   "source": [
    "print(\"2 cylindres\")\n",
    "cylindre2 = df.loc[(df[\"NB_CYL\"]==2),\"REG_ADM\"].value_counts()\n",
    "\n",
    "print(cylindre2)\n",
    "\n",
    "print(cylindre2/total)\n"
   ]
  },
  {
   "cell_type": "code",
   "execution_count": null,
   "metadata": {},
   "outputs": [],
   "source": [
    "print(\"3 cylindres\")\n",
    "cylindre3 = df.loc[(df[\"NB_CYL\"]==3),\"REG_ADM\"].value_counts()\n",
    "\n",
    "print(cylindre3)\n",
    "\n",
    "print('ratio')\n",
    "print(cylindre3/total)\n",
    "\n"
   ]
  },
  {
   "cell_type": "code",
   "execution_count": null,
   "metadata": {},
   "outputs": [],
   "source": [
    "print(\"5 cylindres\")\n",
    "cylindre5 = df.loc[(df[\"NB_CYL\"]==5),\"REG_ADM\"].value_counts()\n",
    "print(cylindre5)\n",
    "print('ratio')\n",
    "print(cylindre5/total)"
   ]
  },
  {
   "cell_type": "code",
   "execution_count": null,
   "metadata": {},
   "outputs": [],
   "source": [
    "print(\"6 cylindres\")\n",
    "cylindre6 = df.loc[(df[\"NB_CYL\"]==6),\"REG_ADM\"].value_counts()\n",
    "print(cylindre6)\n",
    "print('ratio')\n",
    "print(cylindre6/total)"
   ]
  },
  {
   "cell_type": "code",
   "execution_count": null,
   "metadata": {},
   "outputs": [],
   "source": [
    "print(\"7 cylindres\")\n",
    "cylindre7 = df.loc[(df[\"NB_CYL\"]== 7),\"REG_ADM\"].value_counts()\n",
    "\n",
    "print(cylindre7)\n",
    "\n",
    "print('ratio')\n",
    "print(cylindre7/total)"
   ]
  },
  {
   "cell_type": "code",
   "execution_count": null,
   "metadata": {},
   "outputs": [],
   "source": [
    "print(\"8 cylindres\")\n",
    "cylindre8 = df.loc[(df[\"NB_CYL\"]==8),\"REG_ADM\"].value_counts()\n",
    "\n",
    "print(cylindre8)\n",
    "\n",
    "print('ratio')\n",
    "print(cylindre8/total)"
   ]
  },
  {
   "cell_type": "code",
   "execution_count": null,
   "metadata": {},
   "outputs": [],
   "source": [
    "print(\"plus de 8 cylindres\")\n",
    "\n",
    "cylindreplus8 = df.loc[(df[\"NB_CYL\"]==9),\"REG_ADM\"].value_counts()\n",
    "\n",
    "print(cylindreplus8)\n",
    "\n",
    "print('ratio')\n",
    "print(cylindreplus8/total)\n"
   ]
  },
  {
   "cell_type": "code",
   "execution_count": null,
   "metadata": {
    "scrolled": true
   },
   "outputs": [],
   "source": [
    "print(\"pas d'information\")\n",
    "pasdevaleur= df.loc[(df[\"NB_CYL\"]==0),\"REG_ADM\"].value_counts()\n",
    "\n",
    "print(pasdevaleur)\n",
    "\n",
    "print('ratio')\n",
    "print(pasdevaleur/total)"
   ]
  },
  {
   "cell_type": "code",
   "execution_count": null,
   "metadata": {},
   "outputs": [],
   "source": [
    "morale = df.loc[(df[\"TYP_DOSS_PERS\"]=='M'),\"REG_ADM\"].value_counts()\n",
    "print(morale)\n",
    "totaltype = region['TYP_DOSS_PERS'].count()\n",
    "\n",
    "proportionMorale =  morale/totaltype\n",
    "print('proportion')\n",
    "print(proportionMorale)\n"
   ]
  },
  {
   "cell_type": "code",
   "execution_count": null,
   "metadata": {},
   "outputs": [],
   "source": [
    "dict_clas = {\"PAU\" : \"Automobile ou camion léger\", \"PMC\":\"Motocyclette\", \"PCY\":\"Cyclomoteur\", \n",
    "             \"PHM\" : \"Habitation motorisée\", \"CAU\":\"Automobile ou camion léger\", \"CMC\":\"Motocyclette\", \"CCY\":\"Cyclomoteur\",\n",
    "              \"CHM\":\"Habitation motorisée\", \"TTA\":\"Taxi\", \"TAB\":\"Autobus\", \"TAS\":\"Autobus scolaire\", \n",
    "              \"BCA\":\"Camion ou tracteur routier\", \"CVO\":\"Véhicule-outil\", \"COT\":\"Autres\"}\n",
    "df[\"CLAS\"].replace(dict_clas, inplace =True )\n",
    "\n",
    "dict_typ_veh = {\"AB\": \"Autobus\",\"AT\": \"Aucun type spécifique\", \"AU\":\"Automobile ou camion léger\",\n",
    "                \"CA\":\"Camion ou tracteur routier\", \"CY\":\"Cyclomoteur\", \"HM\":\"Habitation motorisée\",\n",
    "               \"MN\":\"Motoneige\", \"NV\": \"Autres véhicules hors route\", \"SN\":\"Souffleuse à neige\", \"VO\":\"Véhicule-outil\",\n",
    "               \"VT\":\"Véhicule tout-terrain\"}\n",
    "df[\"TYP_VEH_CATEG_USA\"].replace(dict_typ_veh, inplace=True)\n",
    "df[\"TYP_VEH_CATEG_USA\"].head()\n"
   ]
  },
  {
   "cell_type": "code",
   "execution_count": null,
   "metadata": {},
   "outputs": [],
   "source": [
    "df.loc[(df[\"PHYS_AGE\"]>0)].min()"
   ]
  }
 ],
 "metadata": {
  "kernelspec": {
   "display_name": "Python 3",
   "language": "python",
   "name": "python3"
  },
  "language_info": {
   "codemirror_mode": {
    "name": "ipython",
    "version": 3
   },
   "file_extension": ".py",
   "mimetype": "text/x-python",
   "name": "python",
   "nbconvert_exporter": "python",
   "pygments_lexer": "ipython3",
   "version": "3.6.3"
  }
 },
 "nbformat": 4,
 "nbformat_minor": 2
}
